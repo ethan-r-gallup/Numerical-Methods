{
 "cells": [
  {
   "cell_type": "markdown",
   "metadata": {},
   "source": [
    "# CHEN 2450 - Coding Activity 5\n",
    "# Gauss Siedel Iterative Solver\n",
    "## Prof. Tony Saad"
   ]
  },
  {
   "cell_type": "code",
   "execution_count": 54,
   "metadata": {},
   "outputs": [],
   "source": [
    "import numpy as np\n",
    "from numpy.linalg import norm\n",
    "np.set_printoptions(precision=5)"
   ]
  },
  {
   "cell_type": "markdown",
   "metadata": {},
   "source": [
    "Use the Gauss Siedel iterative solver to find the solution of the following system of equations:\n",
    "\\begin{equation}\n",
    "\\begin{bmatrix}\n",
    "5 & 1 & 1\\\\ \n",
    "2 & 3 & 0\\\\ \n",
    "3 & 0 & 4\n",
    "\\end{bmatrix}\n",
    "\\begin{pmatrix}\n",
    "x_1\\\\ \n",
    "x_2\\\\ \n",
    "x_3\n",
    "\\end{pmatrix}\n",
    "=\n",
    "\\begin{pmatrix}\n",
    "10\\\\ \n",
    "11\\\\ \n",
    "12\n",
    "\\end{pmatrix}\n",
    "\\end{equation}"
   ]
  },
  {
   "cell_type": "markdown",
   "metadata": {},
   "source": [
    "Here is the Jacobi iterative solver"
   ]
  },
  {
   "cell_type": "code",
   "execution_count": 2,
   "metadata": {},
   "outputs": [],
   "source": [
    "def jacobi(A,b,xguess,tol):\n",
    "    # Make sure A is a numpy array\n",
    "    A = np.array(A)\n",
    "    [nr,nc] = A.shape\n",
    "    iter = 0 # counter\n",
    "    x  = np.zeros(nr) # declare x array\n",
    "    xold = xguess.copy()\n",
    "    error = norm(b - A.dot(old), 2)    \n",
    "    print ('i \\t x1 \\t x2 \\t x3 \\t error \\n')\n",
    "    while (error > tol):\n",
    "        print(iter, '\\t', x, error)\n",
    "        # loop over the rows\n",
    "        for i in range(0,nr):\n",
    "            x[i] = xold[i] + 1.0/A[i][i] * (b[i] - A[i]@xold)\n",
    "#         error = norm(b - A.dot(x))\n",
    "        error = norm( b - A.dot(xold), 2 )\n",
    "        #make sure x and xguess are NOT the same\n",
    "        xold = x.copy()\n",
    "        iter +=1\n",
    "    return x"
   ]
  },
  {
   "cell_type": "markdown",
   "metadata": {},
   "source": [
    "Define your coefficient matrix, RHS, initial guess, and max iterations"
   ]
  },
  {
   "cell_type": "code",
   "execution_count": 3,
   "metadata": {},
   "outputs": [],
   "source": [
    "A =[[5.0,1.0,1.0],\n",
    "    [2.0,3.0,0.0],\n",
    "    [3.0,0.0,4.0]]\n",
    "b  = [10.0,11.0,12.0]\n",
    "x0 = [1.0,1.0,1.0]\n",
    "maxIter = 10"
   ]
  },
  {
   "cell_type": "markdown",
   "metadata": {},
   "source": [
    "Modify the Jacobi iterative solver to use the most recent data - that's the Gauss-Seidel method"
   ]
  },
  {
   "cell_type": "code",
   "execution_count": 62,
   "metadata": {},
   "outputs": [],
   "source": [
    "def gauss_seidel(A,b,xguess,tol):\n",
    "    # Make sure A is a numpy array\n",
    "    A = np.array(A)\n",
    "    [nr,nc] = A.shape\n",
    "    count = 0 # counter\n",
    "    x = ??? # declare x array\n",
    "    print(x)\n",
    "    error = norm(b - A.dot(x), 2)\n",
    "    print ('i \\t x1 \\t x2 \\t x3 \\t error \\n')\n",
    "    while (count < 10):\n",
    "        print(count, '\\t', x, error) \n",
    "        # loop over the rows\n",
    "        for i in range(0,nr):\n",
    "            x[i] = ???\n",
    "        error = norm( b - A.dot(x), 2 )\n",
    "        count +=1\n",
    "    return x"
   ]
  },
  {
   "cell_type": "markdown",
   "metadata": {},
   "source": [
    "Now compare the behavior of both the Jacobi and Gauss-Seidel solvers. Experiment with different tolerances - what do you observe?"
   ]
  },
  {
   "cell_type": "code",
   "execution_count": 64,
   "metadata": {},
   "outputs": [
    {
     "name": "stdout",
     "output_type": "stream",
     "text": [
      "Jacobi solution:\n",
      "i \t x1 \t x2 \t x3 \t error \n",
      "\n",
      "0 \t [0. 0. 0.] 77.0\n",
      "1 \t [-4.4     -6.33333 -7.25   ] 77.0\n",
      "2 \t [2.91667 3.26667 3.55   ] 43.2\n",
      "3 \t [-1.16333 -1.61111 -1.9375 ] 21.950000000000003\n",
      "4 \t [0.90972 1.10889 1.1225 ] 12.239999999999998\n",
      "5 \t [-0.24628 -0.27315 -0.43229] 6.219166666666665\n",
      "6 \t [0.34109 0.49752 0.43471] 3.4680000000000004\n",
      "7 \t [ 0.01355  0.10594 -0.00582] 1.7620972222222226\n",
      "8 \t [0.17997 0.3243  0.23983] 0.9826000000000006\n",
      "9 \t [0.08717 0.21335 0.11502] 0.49926087962963006\n",
      "10 \t [0.13433 0.27522 0.18462] 0.27840333333333356\n",
      "11 \t [0.10803 0.24378 0.14926] 0.1414572492283952\n",
      "12 \t [0.12139 0.26131 0.16898] 0.0788809444444446\n",
      "13 \t [0.11394 0.25241 0.15896] 0.04007955394804541\n",
      "14 \t [0.11773 0.25737 0.16454] 0.022349600925925972\n",
      "15 \t [0.11562 0.25485 0.1617 ] 0.011355873618612788\n",
      "16 \t [0.11669 0.25626 0.16329] 0.00633238692901239\n",
      "17 \t [0.11609 0.25554 0.16248] 0.0032174975252736715\n",
      "18 \t [0.1164  0.25594 0.16293] 0.0017941762965536512\n",
      "19 \t [0.11623 0.25574 0.1627 ] 0.0009116242988276291\n",
      "20 \t [0.11631 0.25585 0.16283] 0.0005083499506901568\n",
      "21 \t [0.11626 0.25579 0.16277] 0.0002582935513344431\n",
      "22 \t [0.11629 0.25582 0.1628 ] 0.00014403248602889995\n",
      "Gauss-Seidel solution:\n",
      "[1. 1. 1.]\n",
      "i \t x1 \t x2 \t x3 \t error \n",
      "\n",
      "0 \t [1. 1. 1.] 8.366600265340756\n",
      "1 \t [1.6 2.6 1.8] 2.3999999999999986\n",
      "2 \t [1.12 2.92 2.16] 0.6800000000000015\n",
      "3 \t [0.984   3.01067 2.262  ] 0.19266666666666765\n",
      "4 \t [0.94547 3.03636 2.2909 ] 0.054588888888888576\n",
      "5 \t [0.93455 3.04363 2.29909] 0.01546685185185126\n",
      "6 \t [0.93146 3.0457  2.30141] 0.004382274691357324\n",
      "7 \t [0.93058 3.04628 2.30207] 0.0012416444958844863\n",
      "8 \t [0.93033 3.04645 2.30225] 0.00035179927383310883\n",
      "9 \t [0.93026 3.04649 2.3023 ] 9.967646092157167e-05\n"
     ]
    },
    {
     "data": {
      "text/plain": [
       "array([0.93024, 3.04651, 2.30232])"
      ]
     },
     "execution_count": 64,
     "metadata": {},
     "output_type": "execute_result"
    }
   ],
   "source": [
    "tol = 1e-4\n",
    "\n",
    "print('Jacobi solution:')\n",
    "jacobi(A,x0,b,tol)\n",
    "\n",
    "print('Gauss-Seidel solution:')\n",
    "gauss_seidel(A,b,x0,tol)"
   ]
  },
  {
   "cell_type": "code",
   "execution_count": null,
   "metadata": {},
   "outputs": [],
   "source": []
  }
 ],
 "metadata": {
  "kernelspec": {
   "display_name": "Python 3",
   "language": "python",
   "name": "python3"
  },
  "language_info": {
   "codemirror_mode": {
    "name": "ipython",
    "version": 3
   },
   "file_extension": ".py",
   "mimetype": "text/x-python",
   "name": "python",
   "nbconvert_exporter": "python",
   "pygments_lexer": "ipython3",
   "version": "3.8.5"
  }
 },
 "nbformat": 4,
 "nbformat_minor": 4
}
