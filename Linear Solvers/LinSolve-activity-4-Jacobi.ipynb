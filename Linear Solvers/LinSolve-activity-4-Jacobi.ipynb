{
 "cells": [
  {
   "cell_type": "markdown",
   "metadata": {},
   "source": [
    "# CHEN 2450 - Coding Activity 4\n",
    "# Jacobi Iterative Solver\n",
    "## Prof. Tony Saad"
   ]
  },
  {
   "cell_type": "markdown",
   "metadata": {},
   "source": [
    "Use the Jacobi iterative solver to find the solution of the following system of equations:\n",
    "\\begin{equation}\n",
    "\\begin{bmatrix}\n",
    "5 & 1 & 1\\\\ \n",
    "2 & 3 & 0\\\\ \n",
    "3 & 0 & 4\n",
    "\\end{bmatrix}\n",
    "\\begin{pmatrix}\n",
    "x_1\\\\ \n",
    "x_2\\\\ \n",
    "x_3\n",
    "\\end{pmatrix}\n",
    "=\n",
    "\\begin{pmatrix}\n",
    "10\\\\ \n",
    "11\\\\ \n",
    "12\n",
    "\\end{pmatrix}\n",
    "\\end{equation}"
   ]
  },
  {
   "cell_type": "markdown",
   "metadata": {},
   "source": [
    "Below is an implementation of the Jacobi iterative solver"
   ]
  },
  {
   "cell_type": "markdown",
   "metadata": {},
   "source": [
    "$$\n",
    "x_i = x_{guess, i}+\\frac{b_i \\mathbf{a}_i \\mathbf{x}_{guess}}{a_{i i}}\n",
    "$$"
   ]
  },
  {
   "cell_type": "code",
   "execution_count": 21,
   "metadata": {},
   "outputs": [],
   "source": [
    "import numpy as np\n",
    "from numpy.linalg import norm\n",
    "\n",
    "def jacobi(A, b, xguess, maxIter):\n",
    "    \n",
    "    # Make sure A is a numpy array\n",
    "    A = np.array(A)\n",
    "    [num_rows, num_cols] = A.shape\n",
    "    \n",
    "    iter = 0 # counter\n",
    "    x  = np.zeros(num_rows) # declare x array\n",
    "    \n",
    "    while (iter < maxIter):\n",
    "        \n",
    "        # loop over the rows\n",
    "        for i in range(0, num_rows):\n",
    "            x[i] = xguess[i] + (b[i] - A[i]@xguess)/A[i][i]\n",
    "            \n",
    "        #make sure x and xguess are NOT the same\n",
    "        xguess = x.copy()\n",
    "        iter +=1\n",
    "    return x"
   ]
  },
  {
   "cell_type": "markdown",
   "metadata": {},
   "source": [
    "Define your coefficient matrix, RHS, initial guess, and max iterations"
   ]
  },
  {
   "cell_type": "code",
   "execution_count": 22,
   "metadata": {},
   "outputs": [],
   "source": [
    "A = [[5,1,1],\n",
    "     [2,3,0],\n",
    "     [3,0,4]]\n",
    "b = [10,11,12]\n",
    "x0 = [1,1,1]\n",
    "maxIter = 10"
   ]
  },
  {
   "cell_type": "markdown",
   "metadata": {},
   "source": [
    "Now call the Jacobi solver to solve this system of equations"
   ]
  },
  {
   "cell_type": "code",
   "execution_count": 23,
   "metadata": {},
   "outputs": [
    {
     "data": {
      "text/plain": [
       "array([0.13432623, 0.27521746, 0.18461964])"
      ]
     },
     "execution_count": 23,
     "metadata": {},
     "output_type": "execute_result"
    }
   ],
   "source": [
    "jacobi(A,x0,b,maxIter)"
   ]
  },
  {
   "cell_type": "markdown",
   "metadata": {},
   "source": [
    "To gain more insight into what the solver is doing, modify the Jacobi routine to print out iteration number and the value of each iterate $x_i^k$"
   ]
  },
  {
   "cell_type": "code",
   "execution_count": 18,
   "metadata": {},
   "outputs": [],
   "source": [
    "def jacobi2(A,b,xguess,maxIter):\n",
    "    # Make sure A is a numpy array\n",
    "    A = np.array(A)\n",
    "    [nr,nc] = A.shape\n",
    "    iter = 0 # counter\n",
    "    x  = np.zeros(nr) # declare x array\n",
    "#     ????\n",
    "    while (iter < maxIter):\n",
    "        print(x, iter)\n",
    "        # loop over the rows\n",
    "        for i in range(0,nr):\n",
    "            x[i] = xguess[i] + 1.0/A[i][i] * (b[i] - A[i]@xguess)\n",
    "        #make sure x and xguess are NOT the same\n",
    "        xguess = x.copy()\n",
    "        iter +=1\n",
    "    return x"
   ]
  },
  {
   "cell_type": "code",
   "execution_count": 19,
   "metadata": {},
   "outputs": [],
   "source": [
    "A = [[5,1,1],\n",
    "     [2,3,0],\n",
    "     [3,0,4]]\n",
    "b = [10,11,12]\n",
    "x0 = [1,1,1]\n",
    "maxIter = 10"
   ]
  },
  {
   "cell_type": "code",
   "execution_count": 20,
   "metadata": {},
   "outputs": [
    {
     "name": "stdout",
     "output_type": "stream",
     "text": [
      "[0. 0. 0.] 0\n",
      "[-4.4        -6.33333333 -7.25      ] 1\n",
      "[2.91666667 3.26666667 3.55      ] 2\n",
      "[-1.16333333 -1.61111111 -1.9375    ] 3\n",
      "[0.90972222 1.10888889 1.1225    ] 4\n",
      "[-0.24627778 -0.27314815 -0.43229167] 5\n",
      "[0.34108796 0.49751852 0.43470833] 6\n",
      "[ 0.01355463  0.10594136 -0.00581597] 7\n",
      "[0.17997492 0.32429691 0.23983403] 8\n",
      "[0.08717381 0.21335005 0.11501881] 9\n"
     ]
    },
    {
     "data": {
      "text/plain": [
       "array([0.13432623, 0.27521746, 0.18461964])"
      ]
     },
     "execution_count": 20,
     "metadata": {},
     "output_type": "execute_result"
    }
   ],
   "source": [
    "jacobi2(A,x0,b,maxIter)"
   ]
  },
  {
   "cell_type": "markdown",
   "metadata": {},
   "source": [
    "Now experiment with different maximum iterations - what do you observe?"
   ]
  },
  {
   "cell_type": "markdown",
   "metadata": {},
   "source": [
    "Clearly, we need a way to tell the solver to stop. A tolerance is useful in this case. Add an error measure to the Jacobi routine so that the solver stops at a certain tolerance."
   ]
  },
  {
   "cell_type": "code",
   "execution_count": 24,
   "metadata": {},
   "outputs": [],
   "source": [
    "def jacobi3(A,b,xguess,tol):\n",
    "    # Make sure A is a numpy array\n",
    "    A = np.array(A)\n",
    "    [nr,nc] = A.shape\n",
    "#     ??????\n",
    "    iter = 0 # counter\n",
    "    x  = np.zeros(nr) # declare x array\n",
    "    \n",
    "    while (error > tol):\n",
    "        \n",
    "        # loop over the rows\n",
    "        for i in range(0,nr):\n",
    "            x[i] = xguess[i] + 1.0/A[i][i] * (b[i] - A[i]@xguess)\n",
    "\n",
    "#         ????\n",
    "        #make sure x and xguess are NOT the same\n",
    "        xguess = x.copy()\n",
    "        \n",
    "        iter +=1\n",
    "    return x"
   ]
  },
  {
   "cell_type": "code",
   "execution_count": 25,
   "metadata": {},
   "outputs": [],
   "source": [
    "A = [[5,1,1],\n",
    "     [2,3,0],\n",
    "     [3,0,4]]\n",
    "b = [10,11,12]\n",
    "x0 = [1,1,1]\n",
    "maxIter = 100\n"
   ]
  },
  {
   "cell_type": "code",
   "execution_count": 26,
   "metadata": {},
   "outputs": [
    {
     "ename": "NameError",
     "evalue": "name 'error' is not defined",
     "output_type": "error",
     "traceback": [
      "\u001b[1;31m---------------------------------------------------------------------------\u001b[0m",
      "\u001b[1;31mNameError\u001b[0m                                 Traceback (most recent call last)",
      "\u001b[1;32m<ipython-input-26-16969bde0c7d>\u001b[0m in \u001b[0;36m<module>\u001b[1;34m\u001b[0m\n\u001b[1;32m----> 1\u001b[1;33m \u001b[0mjacobi3\u001b[0m\u001b[1;33m(\u001b[0m\u001b[0mA\u001b[0m\u001b[1;33m,\u001b[0m\u001b[0mx0\u001b[0m\u001b[1;33m,\u001b[0m\u001b[0mb\u001b[0m\u001b[1;33m,\u001b[0m\u001b[0mmaxIter\u001b[0m\u001b[1;33m)\u001b[0m\u001b[1;33m\u001b[0m\u001b[1;33m\u001b[0m\u001b[0m\n\u001b[0m",
      "\u001b[1;32m<ipython-input-24-fde07e4e0af0>\u001b[0m in \u001b[0;36mjacobi3\u001b[1;34m(A, b, xguess, maxIter)\u001b[0m\n\u001b[0;32m      7\u001b[0m     \u001b[0mx\u001b[0m  \u001b[1;33m=\u001b[0m \u001b[0mnp\u001b[0m\u001b[1;33m.\u001b[0m\u001b[0mzeros\u001b[0m\u001b[1;33m(\u001b[0m\u001b[0mnr\u001b[0m\u001b[1;33m)\u001b[0m \u001b[1;31m# declare x array\u001b[0m\u001b[1;33m\u001b[0m\u001b[1;33m\u001b[0m\u001b[0m\n\u001b[0;32m      8\u001b[0m \u001b[1;33m\u001b[0m\u001b[0m\n\u001b[1;32m----> 9\u001b[1;33m     \u001b[1;32mwhile\u001b[0m \u001b[1;33m(\u001b[0m\u001b[0merror\u001b[0m \u001b[1;33m>\u001b[0m \u001b[0mtol\u001b[0m\u001b[1;33m)\u001b[0m\u001b[1;33m:\u001b[0m\u001b[1;33m\u001b[0m\u001b[1;33m\u001b[0m\u001b[0m\n\u001b[0m\u001b[0;32m     10\u001b[0m \u001b[1;33m\u001b[0m\u001b[0m\n\u001b[0;32m     11\u001b[0m         \u001b[1;31m# loop over the rows\u001b[0m\u001b[1;33m\u001b[0m\u001b[1;33m\u001b[0m\u001b[1;33m\u001b[0m\u001b[0m\n",
      "\u001b[1;31mNameError\u001b[0m: name 'error' is not defined"
     ]
    }
   ],
   "source": [
    "jacobi3(A,x0,b,maxIter)"
   ]
  },
  {
   "cell_type": "code",
   "execution_count": null,
   "metadata": {},
   "outputs": [],
   "source": []
  }
 ],
 "metadata": {
  "kernelspec": {
   "display_name": "Python 3",
   "language": "python",
   "name": "python3"
  },
  "language_info": {
   "codemirror_mode": {
    "name": "ipython",
    "version": 3
   },
   "file_extension": ".py",
   "mimetype": "text/x-python",
   "name": "python",
   "nbconvert_exporter": "python",
   "pygments_lexer": "ipython3",
   "version": "3.8.5"
  }
 },
 "nbformat": 4,
 "nbformat_minor": 4
}
