{
 "cells": [
  {
   "cell_type": "markdown",
   "metadata": {},
   "source": [
    "# Homework 2\n",
    "## Ethan Gallup\n",
    "## Unid: u1033198"
   ]
  },
  {
   "cell_type": "code",
   "execution_count": 6,
   "metadata": {},
   "outputs": [],
   "source": [
    "import numpy as np\n",
    "import math"
   ]
  },
  {
   "cell_type": "markdown",
   "metadata": {},
   "source": [
    "## Problem 1\n"
   ]
  },
  {
   "cell_type": "code",
   "execution_count": 117,
   "metadata": {},
   "outputs": [
    {
     "name": "stdout",
     "output_type": "stream",
     "text": [
      "Abs true error = 9.536743164617612e-08\n",
      "Cumulative error = 0.343322753926234\n",
      "167.59984016418457\n"
     ]
    }
   ],
   "source": [
    "err = np.float64(.1)- np.float64(0.09999990463256836)\n",
    "print(f'Abs true error = {err}')\n",
    "t = 100 * 3600 * 10\n",
    "err_100_hrs = t * err\n",
    "print(f'Cumulative error = {err_100_hrs}')\n",
    "\n",
    "tfalse = t\n",
    "perceived_distance = 1676 * 0.09999990463256836\n",
    "print(perceived_distance)\n"
   ]
  },
  {
   "cell_type": "markdown",
   "metadata": {},
   "source": [
    "no, it will not engage."
   ]
  },
  {
   "cell_type": "markdown",
   "metadata": {},
   "source": [
    "## Problem 2"
   ]
  },
  {
   "cell_type": "code",
   "execution_count": null,
   "metadata": {},
   "outputs": [],
   "source": []
  },
  {
   "cell_type": "code",
   "execution_count": 116,
   "metadata": {},
   "outputs": [
    {
     "name": "stdout",
     "output_type": "stream",
     "text": [
      "precision = 1, approximation = 0.9973911830357143, iterations = 4.0\n",
      "precision = 2, approximation = 0.9973911830357143, iterations = 4.0\n",
      "precision = 4, approximation = 0.9974949556821353, iterations = 6.0\n",
      "precision = 6, approximation = 0.9974949869361672, iterations = 7.0\n",
      "precision = 12, approximation = 0.9974949866040544, iterations = 10.0\n"
     ]
    }
   ],
   "source": [
    "def taylor(precision, x):\n",
    "    p = 0\n",
    "    n = 0.0\n",
    "    error = 1000\n",
    "    while error > (.5 * 10**(-precision)):\n",
    "        p0 = p\n",
    "        p += ((-1)**n) * (x**(2*n + 1))/(np.math.factorial(2*n + 1))\n",
    "        n += 1\n",
    "        error = abs(p-p0)/p\n",
    "    print(f'precision = {precision}, approximation = {p}, iterations = {n}')\n",
    "\n",
    "nums = [1, 2, 4, 6, 12]\n",
    "series = [taylor(num, 1.5) for num in nums]\n"
   ]
  },
  {
   "cell_type": "markdown",
   "metadata": {},
   "source": [
    "## Problem 3"
   ]
  },
  {
   "cell_type": "code",
   "execution_count": 91,
   "metadata": {},
   "outputs": [
    {
     "data": {
      "text/html": [
       "<div>\n",
       "<style scoped>\n",
       "    .dataframe tbody tr th:only-of-type {\n",
       "        vertical-align: middle;\n",
       "    }\n",
       "\n",
       "    .dataframe tbody tr th {\n",
       "        vertical-align: top;\n",
       "    }\n",
       "\n",
       "    .dataframe thead th {\n",
       "        text-align: right;\n",
       "    }\n",
       "</style>\n",
       "<table border=\"1\" class=\"dataframe\">\n",
       "  <thead>\n",
       "    <tr style=\"text-align: right;\">\n",
       "      <th></th>\n",
       "      <th>h</th>\n",
       "      <th>approx</th>\n",
       "      <th>error</th>\n",
       "    </tr>\n",
       "  </thead>\n",
       "  <tbody>\n",
       "    <tr>\n",
       "      <th>0</th>\n",
       "      <td>1.0000</td>\n",
       "      <td>12.696481</td>\n",
       "      <td>1.000000</td>\n",
       "    </tr>\n",
       "    <tr>\n",
       "      <th>1</th>\n",
       "      <td>0.5000</td>\n",
       "      <td>9.586876</td>\n",
       "      <td>0.324361</td>\n",
       "    </tr>\n",
       "    <tr>\n",
       "      <th>2</th>\n",
       "      <td>0.2500</td>\n",
       "      <td>8.394719</td>\n",
       "      <td>0.142013</td>\n",
       "    </tr>\n",
       "    <tr>\n",
       "      <th>3</th>\n",
       "      <td>0.1250</td>\n",
       "      <td>7.870731</td>\n",
       "      <td>0.066574</td>\n",
       "    </tr>\n",
       "    <tr>\n",
       "      <th>4</th>\n",
       "      <td>0.0625</td>\n",
       "      <td>7.624851</td>\n",
       "      <td>0.032247</td>\n",
       "    </tr>\n",
       "  </tbody>\n",
       "</table>\n",
       "</div>"
      ],
      "text/plain": [
       "        h     approx     error\n",
       "0  1.0000  12.696481  1.000000\n",
       "1  0.5000   9.586876  0.324361\n",
       "2  0.2500   8.394719  0.142013\n",
       "3  0.1250   7.870731  0.066574\n",
       "4  0.0625   7.624851  0.032247"
      ]
     },
     "execution_count": 91,
     "metadata": {},
     "output_type": "execute_result"
    }
   ],
   "source": [
    "def deriv(x, h):\n",
    "    return (np.exp(x+h)-np.exp(x))/h\n",
    "\n",
    "values = [1, .5, .25, .125, .0625]\n",
    "df = pd.DataFrame(columns=['h', 'approx', 'error'])\n",
    "approx = 0\n",
    "for value in values:\n",
    "    a0 = approx\n",
    "    approx = deriv(2, value)\n",
    "    error = abs(approx - a0)/approx\n",
    "    df = df.append({'h': value, 'approx': approx, 'error': error}, ignore_index=True)\n",
    "    \n",
    "df"
   ]
  },
  {
   "cell_type": "markdown",
   "metadata": {},
   "source": [
    "When h is reduced by half so is the error."
   ]
  },
  {
   "cell_type": "code",
   "execution_count": 94,
   "metadata": {},
   "outputs": [
    {
     "data": {
      "text/html": [
       "<div>\n",
       "<style scoped>\n",
       "    .dataframe tbody tr th:only-of-type {\n",
       "        vertical-align: middle;\n",
       "    }\n",
       "\n",
       "    .dataframe tbody tr th {\n",
       "        vertical-align: top;\n",
       "    }\n",
       "\n",
       "    .dataframe thead th {\n",
       "        text-align: right;\n",
       "    }\n",
       "</style>\n",
       "<table border=\"1\" class=\"dataframe\">\n",
       "  <thead>\n",
       "    <tr style=\"text-align: right;\">\n",
       "      <th></th>\n",
       "      <th>h</th>\n",
       "      <th>approx</th>\n",
       "      <th>error</th>\n",
       "    </tr>\n",
       "  </thead>\n",
       "  <tbody>\n",
       "    <tr>\n",
       "      <th>0</th>\n",
       "      <td>1.0000</td>\n",
       "      <td>8.683628</td>\n",
       "      <td>0.149082</td>\n",
       "    </tr>\n",
       "    <tr>\n",
       "      <th>1</th>\n",
       "      <td>0.5000</td>\n",
       "      <td>7.700805</td>\n",
       "      <td>0.040483</td>\n",
       "    </tr>\n",
       "    <tr>\n",
       "      <th>2</th>\n",
       "      <td>0.2500</td>\n",
       "      <td>7.466266</td>\n",
       "      <td>0.010341</td>\n",
       "    </tr>\n",
       "    <tr>\n",
       "      <th>3</th>\n",
       "      <td>0.1250</td>\n",
       "      <td>7.408313</td>\n",
       "      <td>0.002599</td>\n",
       "    </tr>\n",
       "    <tr>\n",
       "      <th>4</th>\n",
       "      <td>0.0625</td>\n",
       "      <td>7.393868</td>\n",
       "      <td>0.000651</td>\n",
       "    </tr>\n",
       "  </tbody>\n",
       "</table>\n",
       "</div>"
      ],
      "text/plain": [
       "        h    approx     error\n",
       "0  1.0000  8.683628  0.149082\n",
       "1  0.5000  7.700805  0.040483\n",
       "2  0.2500  7.466266  0.010341\n",
       "3  0.1250  7.408313  0.002599\n",
       "4  0.0625  7.393868  0.000651"
      ]
     },
     "execution_count": 94,
     "metadata": {},
     "output_type": "execute_result"
    }
   ],
   "source": [
    "def deriv(x, h):\n",
    "    return (np.exp(x+h)-np.exp(x-h))/(2*h)\n",
    "\n",
    "approx = 0\n",
    "df = pd.DataFrame(columns=['h', 'approx', 'error'])\n",
    "for value in values:\n",
    "    a0 = approx\n",
    "    approx = deriv(2, value)\n",
    "    error = abs(approx - np.exp(2))/approx\n",
    "    df = df.append({'h': value, 'approx': approx, 'error': error}, ignore_index=True)\n",
    "    \n",
    "df"
   ]
  },
  {
   "cell_type": "markdown",
   "metadata": {},
   "source": [
    "When h is cut in half the new error is reduced to one fourth."
   ]
  },
  {
   "cell_type": "markdown",
   "metadata": {},
   "source": [
    "I would rather use the second method to calculate a derivative because it is more accurate. If the number of iterations was high enough it may save a bit of time to use the first method as there are slightly fewer operations for the computer to perform."
   ]
  }
 ],
 "metadata": {
  "kernelspec": {
   "display_name": "Python 3",
   "language": "python",
   "name": "python3"
  },
  "language_info": {
   "codemirror_mode": {
    "name": "ipython",
    "version": 3
   },
   "file_extension": ".py",
   "mimetype": "text/x-python",
   "name": "python",
   "nbconvert_exporter": "python",
   "pygments_lexer": "ipython3",
   "version": "3.8.5"
  }
 },
 "nbformat": 4,
 "nbformat_minor": 2
}
