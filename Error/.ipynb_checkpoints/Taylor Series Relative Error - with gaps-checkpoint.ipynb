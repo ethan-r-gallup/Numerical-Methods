{
 "cells": [
  {
   "cell_type": "markdown",
   "metadata": {},
   "source": [
    "# CHEN 2450 - Coding Activity on Relative Approximate Error\n",
    "## Prof. Tony Saad"
   ]
  },
  {
   "cell_type": "markdown",
   "metadata": {},
   "source": [
    "Write a Python code that uses the Taylor series to evaluate the exponential function down to an error (also called tolerance) of 1%. Recall that:\n",
    "Recall that\n",
    "\\begin{equation}\n",
    "e^{x} = \\sum^{\\infty}_{n=0} \\frac{1}{n!} x^{n} = 1 + x + \\frac{1}{2!} x^{2} + \\frac{1}{3!} x^{3} + \\cdots\\text{ for all } x \\!\n",
    "\\end{equation}\n",
    "Hint: Keep adding terms in the Taylor series until the desired tolerance is achieved"
   ]
  },
  {
   "cell_type": "code",
   "execution_count": 1,
   "metadata": {},
   "outputs": [],
   "source": [
    "import math"
   ]
  },
  {
   "cell_type": "markdown",
   "metadata": {},
   "source": [
    "## Brute Force Approach"
   ]
  },
  {
   "cell_type": "markdown",
   "metadata": {},
   "source": [
    "In the brute force approach, you can add terms manually - that is the equivalent of using Python as a calculator, which is a terrible idea!"
   ]
  },
  {
   "cell_type": "code",
   "execution_count": 2,
   "metadata": {},
   "outputs": [
    {
     "name": "stdout",
     "output_type": "stream",
     "text": [
      "66.66666666666666\n",
      "40.0\n",
      "21.052631578947363\n",
      "9.523809523809527\n"
     ]
    }
   ],
   "source": [
    "x = 2.0\n",
    "exactVal = math.exp(x)\n",
    "\n",
    "term1 = 1\n",
    "result1 = term1\n",
    "\n",
    "term2 = x\n",
    "result2 = result1 + term2\n",
    "e = abs(result2 - result1)/result2*100\n",
    "print(e)\n",
    "\n",
    "term3 = 0.5*x**2\n",
    "result3 = result2 + term3\n",
    "e = abs(result3 - result2)/result3*100\n",
    "print(e)\n",
    "\n",
    "term4 = 1.0/6.0*x**3\n",
    "result4 = result3 + term4\n",
    "e = abs(result4 - result3)/result4*100\n",
    "print(e)\n",
    "\n",
    "term5 = 1.0/math.factorial(4)*x**4\n",
    "result5 = result4 + term5\n",
    "e = abs(result5 - result4)/result5*100\n",
    "print(e)"
   ]
  },
  {
   "cell_type": "markdown",
   "metadata": {},
   "source": [
    "# Using a `for` loop"
   ]
  },
  {
   "cell_type": "markdown",
   "metadata": {},
   "source": [
    "But that's really silly. Let's do a for loop! In a for loop, you can do a repetitive calculation for a specified number of times. We typically use the python `range` function to create a counter that automatically increments. The `range` function takes two arguments, a `start` and a `stop` argument and goes from `start` to `stop -1`.Try the following:"
   ]
  },
  {
   "cell_type": "code",
   "execution_count": 3,
   "metadata": {},
   "outputs": [
    {
     "name": "stdout",
     "output_type": "stream",
     "text": [
      "0\n",
      "1\n",
      "2\n",
      "3\n",
      "4\n",
      "5\n",
      "6\n",
      "7\n",
      "8\n",
      "9\n"
     ]
    }
   ],
   "source": [
    "for i in range(0,10):\n",
    "    print()\n",
    "    "
   ]
  },
  {
   "cell_type": "markdown",
   "metadata": {},
   "source": [
    "now try this:"
   ]
  },
  {
   "cell_type": "code",
   "execution_count": 5,
   "metadata": {},
   "outputs": [
    {
     "name": "stdout",
     "output_type": "stream",
     "text": [
      "0\n",
      "1\n",
      "2\n",
      "3\n",
      "4\n",
      "5\n",
      "6\n",
      "7\n",
      "8\n",
      "9\n"
     ]
    }
   ],
   "source": [
    "for i in range(10):\n",
    "    print(i)"
   ]
  },
  {
   "cell_type": "markdown",
   "metadata": {},
   "source": [
    "if you omit the `start` argument, then the range function will start counting from 0 to `stop - 1`"
   ]
  },
  {
   "cell_type": "markdown",
   "metadata": {},
   "source": [
    "Now let us create a for loop that calculates the taylor series for the exponential function. We will need a few things:\n",
    "1. Define the `x` value at for which we want to calculate the exponential\n",
    "2. Define a variable to store the result of the calculation - let's call that `result`\n",
    "3. Define the number of terms we want in the Taylor series calculation. Call this `nterms`\n",
    "4. Need the factorial function. We can simply use `math.factorial(x)`\n",
    "\n",
    "In what follows, fill in the gaps"
   ]
  },
  {
   "cell_type": "code",
   "execution_count": 6,
   "metadata": {},
   "outputs": [
    {
     "ename": "SyntaxError",
     "evalue": "invalid syntax (<ipython-input-6-233f0a48c0eb>, line 2)",
     "output_type": "error",
     "traceback": [
      "\u001b[0;36m  File \u001b[0;32m\"<ipython-input-6-233f0a48c0eb>\"\u001b[0;36m, line \u001b[0;32m2\u001b[0m\n\u001b[0;31m    result = ??? # define a variable to store the result. What should we initialize this to???\u001b[0m\n\u001b[0m             ^\u001b[0m\n\u001b[0;31mSyntaxError\u001b[0m\u001b[0;31m:\u001b[0m invalid syntax\n"
     ]
    }
   ],
   "source": [
    "x = 2.0 # define the x value at which we want to evaluate the exponential\n",
    "result = ??? # define a variable to store the result. What should we initialize this to???\n",
    "nterms = 10 # define the total number of terms you want in the Taylor series\n",
    "for n in range(???):\n",
    "    result = ???\n",
    "print(result) # print the result\n",
    "\n",
    "# out of curiosity, let's look at the exact value\n",
    "exactVal = math.exp(x)\n",
    "print(exactVal) "
   ]
  },
  {
   "cell_type": "markdown",
   "metadata": {},
   "source": [
    "Let us now calculate the relative approximate error for each term in the for loop. We will need to make a copy of the \"previous approximation\" - let's call that `oldResult`. Fill in the gaps in what follows:"
   ]
  },
  {
   "cell_type": "code",
   "execution_count": 7,
   "metadata": {},
   "outputs": [
    {
     "ename": "SyntaxError",
     "evalue": "invalid syntax (<ipython-input-7-63ba285b8805>, line 5)",
     "output_type": "error",
     "traceback": [
      "\u001b[0;36m  File \u001b[0;32m\"<ipython-input-7-63ba285b8805>\"\u001b[0;36m, line \u001b[0;32m5\u001b[0m\n\u001b[0;31m    oldResult = ???\u001b[0m\n\u001b[0m                ^\u001b[0m\n\u001b[0;31mSyntaxError\u001b[0m\u001b[0;31m:\u001b[0m invalid syntax\n"
     ]
    }
   ],
   "source": [
    "x = 2.0\n",
    "result = 0.0\n",
    "nterms = 10\n",
    "for n in range(nterms):\n",
    "    oldResult = ???\n",
    "    result = result + 1.0/math.factorial(n)*x**n\n",
    "    e = ??? # calculate the relative approximate error - use absolute values\n",
    "    print('error for term ', n, ':', e, '%')"
   ]
  },
  {
   "cell_type": "markdown",
   "metadata": {},
   "source": [
    "Now we need to tell the for loop to stop after a certain tolerance has been achieved. We need an if statement to track when the error reaches a desired tolerance. We also need to make sure that our for loop will keep going for a sufficient number of terms - so you need to increase your `nterms` otherwise you might not hit your desired tolerance."
   ]
  },
  {
   "cell_type": "code",
   "execution_count": 8,
   "metadata": {},
   "outputs": [
    {
     "ename": "SyntaxError",
     "evalue": "invalid syntax (<ipython-input-8-0a8900a54db3>, line 4)",
     "output_type": "error",
     "traceback": [
      "\u001b[0;36m  File \u001b[0;32m\"<ipython-input-8-0a8900a54db3>\"\u001b[0;36m, line \u001b[0;32m4\u001b[0m\n\u001b[0;31m    nterms = ???\u001b[0m\n\u001b[0m             ^\u001b[0m\n\u001b[0;31mSyntaxError\u001b[0m\u001b[0;31m:\u001b[0m invalid syntax\n"
     ]
    }
   ],
   "source": [
    "x = 2.0\n",
    "result = 0.0\n",
    "tol = 0.5 # define desired tolerance in percent\n",
    "nterms = ???\n",
    "for n in range(nterms):\n",
    "    oldResult = result\n",
    "    result = oldResult + 1.0/math.factorial(n)*x**n\n",
    "    e = abs(result - oldResult)/result*100\n",
    "    if ???:\n",
    "        break\n",
    "print(result)\n",
    "print('it took ', n, ' terms to get to this tolerance.')\n",
    "print('actual error is:', e, '%')"
   ]
  },
  {
   "cell_type": "markdown",
   "metadata": {},
   "source": [
    "Another way would be to use a while loop to avoid an if statement"
   ]
  },
  {
   "cell_type": "code",
   "execution_count": 37,
   "metadata": {},
   "outputs": [
    {
     "name": "stdout",
     "output_type": "stream",
     "text": [
      "100.0\n",
      "66.66666666666666\n",
      "40.0\n",
      "21.052631578947363\n",
      "9.523809523809527\n",
      "5 9.523809523809527\n"
     ]
    }
   ],
   "source": [
    "import numpy as np\n",
    "import math\n",
    "error = 10000\n",
    "result = 0.0\n",
    "n = 0\n",
    "x = 2\n",
    "tol = 10\n",
    "while error > tol:\n",
    "    oldResult = result\n",
    "    result += 1.0/math.factorial(n) * x** n\n",
    "    n += 1\n",
    "    error = abs(oldResult - result)/result*100\n",
    "    print(error)\n",
    "print(n, error)"
   ]
  },
  {
   "cell_type": "code",
   "execution_count": null,
   "metadata": {},
   "outputs": [],
   "source": []
  }
 ],
 "metadata": {
  "anaconda-cloud": {},
  "kernelspec": {
   "display_name": "Python 3",
   "language": "python",
   "name": "python3"
  },
  "language_info": {
   "codemirror_mode": {
    "name": "ipython",
    "version": 3
   },
   "file_extension": ".py",
   "mimetype": "text/x-python",
   "name": "python",
   "nbconvert_exporter": "python",
   "pygments_lexer": "ipython3",
   "version": "3.8.5"
  }
 },
 "nbformat": 4,
 "nbformat_minor": 2
}
