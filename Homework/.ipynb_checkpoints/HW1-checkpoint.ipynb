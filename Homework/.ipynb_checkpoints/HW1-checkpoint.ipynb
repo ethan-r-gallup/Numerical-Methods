{
 "cells": [
  {
   "cell_type": "markdown",
   "metadata": {},
   "source": [
    "# Homework 1\n",
    "## Ethan Gallup\n",
    "## Unid: u1033198"
   ]
  },
  {
   "cell_type": "code",
   "execution_count": 38,
   "metadata": {},
   "outputs": [],
   "source": [
    "import numpy as np\n",
    "import pandas as pd\n",
    "pd.set_option('display.precision', 2)"
   ]
  },
  {
   "cell_type": "markdown",
   "metadata": {},
   "source": [
    "## Problem 1\n",
    "No Submission necessary for problem 1."
   ]
  },
  {
   "cell_type": "markdown",
   "metadata": {},
   "source": [
    "## Problem 2\n",
    "\n",
    "The following gas stations were cited for irregular dispensation by the Department of Agriculture with\n",
    "the following data\n",
    "\n",
    "| Gas Station | Gasoline Reading at Pump (Gallons)   | Actual Gasoline Dispensed (Gallons)|\n",
    "|------|------|-----|\n",
    "|A| 10.00| 9.90|\n",
    "|B| 20.00| 19.90|\n",
    "|C| 30.00| 29.80|\n",
    "|D| 30.00| 29.95|\n",
    "\n",
    "1. (15 pts) If you are trying to find out which gas station cheated you the most, which type of error\n",
    "should you look at?\n",
    "2. (20 pts) Compute the error you chose in the previous question for each gas station.\n",
    "3. (15 pts) Which gas station cheated you the most?"
   ]
  },
  {
   "cell_type": "markdown",
   "metadata": {},
   "source": [
    "### Solution Part 1\n",
    "\n",
    "it depends on what we mean by cheated the most:\n",
    "\n",
    "If I want to find out which gas station is the most dishonest I would use true relative error.\n",
    "\n",
    "If I want to find which gas station owes me the most money I would use true absolute error."
   ]
  },
  {
   "cell_type": "markdown",
   "metadata": {},
   "source": [
    "### Solution Part 2"
   ]
  },
  {
   "cell_type": "code",
   "execution_count": 39,
   "metadata": {},
   "outputs": [
    {
     "data": {
      "text/html": [
       "<style  type=\"text/css\" >\n",
       "#T_6e4bac43_757c_11ec_850f_085bd63aefe8row0_col2,#T_6e4bac43_757c_11ec_850f_085bd63aefe8row1_col2{\n",
       "            background-color:  #fca082;\n",
       "            color:  #000000;\n",
       "        }#T_6e4bac43_757c_11ec_850f_085bd63aefe8row0_col3,#T_6e4bac43_757c_11ec_850f_085bd63aefe8row2_col2{\n",
       "            background-color:  #67000d;\n",
       "            color:  #f1f1f1;\n",
       "        }#T_6e4bac43_757c_11ec_850f_085bd63aefe8row1_col3{\n",
       "            background-color:  #fc8a6a;\n",
       "            color:  #000000;\n",
       "        }#T_6e4bac43_757c_11ec_850f_085bd63aefe8row2_col3{\n",
       "            background-color:  #f14432;\n",
       "            color:  #f1f1f1;\n",
       "        }#T_6e4bac43_757c_11ec_850f_085bd63aefe8row3_col2,#T_6e4bac43_757c_11ec_850f_085bd63aefe8row3_col3{\n",
       "            background-color:  #fff5f0;\n",
       "            color:  #000000;\n",
       "        }</style><table id=\"T_6e4bac43_757c_11ec_850f_085bd63aefe8\" ><thead>    <tr>        <th class=\"blank level0\" ></th>        <th class=\"col_heading level0 col0\" >Reading</th>        <th class=\"col_heading level0 col1\" >Actual</th>        <th class=\"col_heading level0 col2\" >Absolute_Error</th>        <th class=\"col_heading level0 col3\" >Relative_Error</th>    </tr>    <tr>        <th class=\"index_name level0\" >Gas Station</th>        <th class=\"blank\" ></th>        <th class=\"blank\" ></th>        <th class=\"blank\" ></th>        <th class=\"blank\" ></th>    </tr></thead><tbody>\n",
       "                <tr>\n",
       "                        <th id=\"T_6e4bac43_757c_11ec_850f_085bd63aefe8level0_row0\" class=\"row_heading level0 row0\" >A</th>\n",
       "                        <td id=\"T_6e4bac43_757c_11ec_850f_085bd63aefe8row0_col0\" class=\"data row0 col0\" >10.00</td>\n",
       "                        <td id=\"T_6e4bac43_757c_11ec_850f_085bd63aefe8row0_col1\" class=\"data row0 col1\" >9.90</td>\n",
       "                        <td id=\"T_6e4bac43_757c_11ec_850f_085bd63aefe8row0_col2\" class=\"data row0 col2\" >0.10</td>\n",
       "                        <td id=\"T_6e4bac43_757c_11ec_850f_085bd63aefe8row0_col3\" class=\"data row0 col3\" >0.01</td>\n",
       "            </tr>\n",
       "            <tr>\n",
       "                        <th id=\"T_6e4bac43_757c_11ec_850f_085bd63aefe8level0_row1\" class=\"row_heading level0 row1\" >B</th>\n",
       "                        <td id=\"T_6e4bac43_757c_11ec_850f_085bd63aefe8row1_col0\" class=\"data row1 col0\" >20.00</td>\n",
       "                        <td id=\"T_6e4bac43_757c_11ec_850f_085bd63aefe8row1_col1\" class=\"data row1 col1\" >19.90</td>\n",
       "                        <td id=\"T_6e4bac43_757c_11ec_850f_085bd63aefe8row1_col2\" class=\"data row1 col2\" >0.10</td>\n",
       "                        <td id=\"T_6e4bac43_757c_11ec_850f_085bd63aefe8row1_col3\" class=\"data row1 col3\" >0.01</td>\n",
       "            </tr>\n",
       "            <tr>\n",
       "                        <th id=\"T_6e4bac43_757c_11ec_850f_085bd63aefe8level0_row2\" class=\"row_heading level0 row2\" >C</th>\n",
       "                        <td id=\"T_6e4bac43_757c_11ec_850f_085bd63aefe8row2_col0\" class=\"data row2 col0\" >30.00</td>\n",
       "                        <td id=\"T_6e4bac43_757c_11ec_850f_085bd63aefe8row2_col1\" class=\"data row2 col1\" >29.80</td>\n",
       "                        <td id=\"T_6e4bac43_757c_11ec_850f_085bd63aefe8row2_col2\" class=\"data row2 col2\" >0.20</td>\n",
       "                        <td id=\"T_6e4bac43_757c_11ec_850f_085bd63aefe8row2_col3\" class=\"data row2 col3\" >0.01</td>\n",
       "            </tr>\n",
       "            <tr>\n",
       "                        <th id=\"T_6e4bac43_757c_11ec_850f_085bd63aefe8level0_row3\" class=\"row_heading level0 row3\" >D</th>\n",
       "                        <td id=\"T_6e4bac43_757c_11ec_850f_085bd63aefe8row3_col0\" class=\"data row3 col0\" >30.00</td>\n",
       "                        <td id=\"T_6e4bac43_757c_11ec_850f_085bd63aefe8row3_col1\" class=\"data row3 col1\" >29.95</td>\n",
       "                        <td id=\"T_6e4bac43_757c_11ec_850f_085bd63aefe8row3_col2\" class=\"data row3 col2\" >0.05</td>\n",
       "                        <td id=\"T_6e4bac43_757c_11ec_850f_085bd63aefe8row3_col3\" class=\"data row3 col3\" >0.00</td>\n",
       "            </tr>\n",
       "    </tbody></table>"
      ],
      "text/plain": [
       "<pandas.io.formats.style.Styler at 0x1b466ece6a0>"
      ]
     },
     "execution_count": 39,
     "metadata": {},
     "output_type": "execute_result"
    }
   ],
   "source": [
    "stations = pd.DataFrame(index=['A', 'B', 'C', 'D'], columns=['Reading', 'Actual', 'Absolute_Error', 'Relative_Error'])\n",
    "stations.Reading = [10., 20., 30., 30.]\n",
    "stations.Actual = [9.9, 19.90, 29.80, 29.95]\n",
    "stations.Absolute_Error = stations.Reading - stations.Actual\n",
    "stations.Relative_Error = stations.Absolute_Error/stations.Reading\n",
    "stations.index.name = 'Gas Station'\n",
    "stations.style.background_gradient(subset=['Absolute_Error', 'Relative_Error'], cmap='Reds')\n"
   ]
  },
  {
   "cell_type": "markdown",
   "metadata": {},
   "source": [
    "### Solution Part 3"
   ]
  },
  {
   "cell_type": "markdown",
   "metadata": {},
   "source": [
    "Largest true Absolute Error (who cheated me out of the most money):\n",
    "\n",
    "Gas Station C | 20 &cent;\n",
    "\n",
    "Largest true Relative Error (who cheated by the largest margin):\n",
    "\n",
    "Gas Station A | 1 &cent;/Gallon"
   ]
  }
 ],
 "metadata": {
  "kernelspec": {
   "display_name": "Python 3",
   "language": "python",
   "name": "python3"
  },
  "language_info": {
   "codemirror_mode": {
    "name": "ipython",
    "version": 3
   },
   "file_extension": ".py",
   "mimetype": "text/x-python",
   "name": "python",
   "nbconvert_exporter": "python",
   "pygments_lexer": "ipython3",
   "version": "3.8.5"
  }
 },
 "nbformat": 4,
 "nbformat_minor": 2
}
