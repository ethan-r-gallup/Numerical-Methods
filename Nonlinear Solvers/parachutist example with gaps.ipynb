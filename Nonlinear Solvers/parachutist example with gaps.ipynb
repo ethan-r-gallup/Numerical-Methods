{
 "cells": [
  {
   "cell_type": "markdown",
   "metadata": {},
   "source": [
    "# Nonlinear Solvers\n",
    "## CH EN 2450 - Numerical Methods\n",
    "**Prof. Tony Saad (<a>www.tsaad.net</a>) <br/>Department of Chemical Engineering <br/>University of Utah**\n",
    "<hr/>"
   ]
  },
  {
   "cell_type": "code",
   "execution_count": null,
   "metadata": {},
   "outputs": [],
   "source": [
    "import numpy as np\n",
    "from scipy.optimize import fsolve\n",
    "%matplotlib inline\n",
    "%config InlineBackend.figure_formats = ['svg']\n",
    "import matplotlib.pyplot as plt"
   ]
  },
  {
   "cell_type": "markdown",
   "metadata": {},
   "source": [
    "# Parachutist in Free Fall"
   ]
  },
  {
   "cell_type": "markdown",
   "metadata": {},
   "source": [
    "A parachutist in free fall subject to linear drag has the following velocity as a function of time, mass, and drag coefficient\n",
    "\\begin{equation}\n",
    "u(t)=\\frac{mg}{c}\\left(1-e^{-\\frac{c}{m}t}\\right)\n",
    "\\end{equation}\n",
    "where $m$ is the mass of the parachutist, $g = 9.81$ is the gravitational constant, $c$ is the drag coefficient, $t$ is the time, and $u$ is the velocity of the parachutist.\n",
    "\n",
    "Our goal in this problem is the find the drag coefficient required for a parachutist of mass $m_0$ to reach a velocity of $u_0$ in an amount of time $t_0$."
   ]
  },
  {
   "cell_type": "markdown",
   "metadata": {},
   "source": [
    "The first order of business is to define the residual function $r$\n",
    "\\begin{equation}\n",
    "r(x) \\equiv \\frac{mg}{c}\\left(1-e^{-\\frac{c}{m}t}\\right) - u(t)\n",
    "\\end{equation}\n",
    "For a given mass $m_0$, time $t_0$, and velocity $u_0$, solving $r(c) = 0$ will return the value of the drag coefficient $c$ (or the root) such that a parachutist of mass $m_0$ reaches a velocity of $v_0$ in time $t_0$."
   ]
  },
  {
   "cell_type": "markdown",
   "metadata": {},
   "source": [
    "We first define this residual function as"
   ]
  },
  {
   "cell_type": "code",
   "execution_count": null,
   "metadata": {},
   "outputs": [],
   "source": [
    "# define residual function for parachutist. Note the use of m0, u0, and t0 - those will be defined later.\n",
    "# The only unknown here is c which stands for the drag coefficient\n",
    "def r(c):\n",
    "    g = 9.81\n",
    "    result = m0*g/c * (1.0 - np.exp(- c/m0*t0)) - u0\n",
    "    return result"
   ]
  },
  {
   "cell_type": "markdown",
   "metadata": {},
   "source": [
    "Now plot this residual function versus the drag coefficient for $m0=70$kg, $t_0 = 10$s, and $u_0 = 40$ m/s"
   ]
  },
  {
   "cell_type": "code",
   "execution_count": null,
   "metadata": {},
   "outputs": [],
   "source": [
    "x = np.linspace(0.1,100)\n",
    "m0 = 70\n",
    "t0 = 10\n",
    "u0 = 40\n",
    "plt.plot(x,r(x), label='u0 = 40')\n",
    "plt.axhline(y=0,color='k')\n",
    "plt.xlabel('Drag Coefficient')\n",
    "plt.ylabel('Residual')\n",
    "plt.legend()\n",
    "plt.grid()\n",
    "plt.draw()\n",
    "plt.show()"
   ]
  },
  {
   "cell_type": "markdown",
   "metadata": {},
   "source": [
    "We can see that there's a root somewhere between 10 and 20"
   ]
  },
  {
   "cell_type": "markdown",
   "metadata": {},
   "source": [
    "# Activity 1 - Bisection Method"
   ]
  },
  {
   "cell_type": "markdown",
   "metadata": {},
   "source": [
    "Here we define the bisection routine (see slides)"
   ]
  },
  {
   "cell_type": "code",
   "execution_count": null,
   "metadata": {},
   "outputs": [],
   "source": [
    "def bisect(f, a, b, tol, maxiter):\n",
    "    err = tol + 100\n",
    "    niter = 0\n",
    "    while err > tol and niter < maxiter:\n",
    "        niter +=1\n",
    "        c = (a + b)/2.0\n",
    "        if (f(a) * f(c) < 0.0):\n",
    "            b = c\n",
    "        else:\n",
    "            a = c\n",
    "        err = abs(f(c))\n",
    "    return c, err, niter"
   ]
  },
  {
   "cell_type": "markdown",
   "metadata": {},
   "source": [
    "Now find the drag coefficient required for our parachutist"
   ]
  },
  {
   "cell_type": "code",
   "execution_count": null,
   "metadata": {},
   "outputs": [],
   "source": [
    "# m0 and t0 have already been defined\n",
    "u0 = 40\n",
    "bisect(?)"
   ]
  },
  {
   "cell_type": "markdown",
   "metadata": {},
   "source": [
    "Now find the drag coefficient for a velocity of 10 m/s. Do you expect the drag coefficient to be larger or smaller?\n",
    "For the same parachutist and length of time, a lower velocity means that there should be a lot more drag on the parachutist. We therefore expect a larger drag coefficient."
   ]
  },
  {
   "cell_type": "code",
   "execution_count": null,
   "metadata": {},
   "outputs": [],
   "source": [
    "u0 = 10\n",
    "bisect(?)"
   ]
  },
  {
   "cell_type": "markdown",
   "metadata": {},
   "source": [
    "We got nothing! why?\n",
    "Let's plot the residual for these conditions and see"
   ]
  },
  {
   "cell_type": "code",
   "execution_count": null,
   "metadata": {},
   "outputs": [],
   "source": [
    "u0 = 10\n",
    "plt.plot(?,?, label='u0 = 10')\n",
    "plt.axhline(y=0,color='k')"
   ]
  },
  {
   "cell_type": "markdown",
   "metadata": {},
   "source": [
    "It looks like we screwed up the brackets, a and b! The drag coefficient is somewhere between 60 and 80"
   ]
  },
  {
   "cell_type": "code",
   "execution_count": null,
   "metadata": {},
   "outputs": [],
   "source": [
    "u0 = 10\n",
    "bisect(?)"
   ]
  },
  {
   "cell_type": "markdown",
   "metadata": {},
   "source": [
    "This results in a drag coefficient of 68.7 - about 4.5 times larger than the case with a velocity of 30 m/s - as expected. "
   ]
  },
  {
   "cell_type": "markdown",
   "metadata": {},
   "source": [
    "Now let's use the built-in function fsolve:"
   ]
  },
  {
   "cell_type": "code",
   "execution_count": null,
   "metadata": {},
   "outputs": [],
   "source": [
    "u0 = 10\n",
    "fsolve(r, 10)"
   ]
  },
  {
   "cell_type": "markdown",
   "metadata": {},
   "source": [
    "# Activity 2 - Method of False Position (Regula-Falsi)"
   ]
  },
  {
   "cell_type": "code",
   "execution_count": null,
   "metadata": {},
   "outputs": [],
   "source": [
    "def falsi(f,a,b,tol,maxiter):\n",
    "    niter = 0\n",
    "    err = tol + 100\n",
    "    while err > tol and niter < maxiter:\n",
    "        m = (f(b) - f(a))/(b - a)\n",
    "        c = b - f(b)/m\n",
    "        err = abs(f(c))\n",
    "        if f(c) * f(a) < 0.0:\n",
    "            b = c\n",
    "        else:\n",
    "            a = c\n",
    "        niter += 1\n",
    "    return c, err, niter          "
   ]
  },
  {
   "cell_type": "code",
   "execution_count": null,
   "metadata": {},
   "outputs": [],
   "source": [
    "falsi(?)"
   ]
  },
  {
   "cell_type": "markdown",
   "metadata": {},
   "source": [
    "# Activity 3 - Secant method"
   ]
  },
  {
   "cell_type": "code",
   "execution_count": null,
   "metadata": {},
   "outputs": [],
   "source": [
    "def secant(f,a,b,tol,maxiter):\n",
    "    niter = 0\n",
    "    err = tol + 100\n",
    "    while err > tol and niter < maxiter:\n",
    "        m = (f(b) - f(a))/(b - a)\n",
    "        c = b - f(b)/m\n",
    "        err = abs(f(c))\n",
    "        a = b\n",
    "        b = c\n",
    "        niter += 1\n",
    "    return c, err, niter"
   ]
  },
  {
   "cell_type": "code",
   "execution_count": null,
   "metadata": {},
   "outputs": [],
   "source": [
    "secant(?)"
   ]
  },
  {
   "cell_type": "markdown",
   "metadata": {},
   "source": [
    "# Activity 4 - Newton's Method with Analytical Derivative"
   ]
  },
  {
   "cell_type": "code",
   "execution_count": null,
   "metadata": {},
   "outputs": [],
   "source": [
    "def newton(f,df,x0,tol):\n",
    "    niter = 0\n",
    "    err = tol + 100\n",
    "    while err > tol and niter < 100:\n",
    "        x1 = x0 - f(x0)/df(x0)\n",
    "        x0 = x1\n",
    "        err = abs(f(x0))\n",
    "        niter += 1\n",
    "    return x1, err, niter           "
   ]
  },
  {
   "cell_type": "markdown",
   "metadata": {},
   "source": [
    "we need to define the analytical derivative of the residual function in this case, in other words, we need\n",
    "\\begin{equation}\n",
    "\\frac{\\partial r}{\\partial c} = -\\frac{m g}{c^2} + \\frac{(m+ct) g}{c^2} e^{-\\frac{c}{m} t}\n",
    "\\end{equation}"
   ]
  },
  {
   "cell_type": "code",
   "execution_count": null,
   "metadata": {},
   "outputs": [],
   "source": [
    "def df(c):\n",
    "    g = 9.81\n",
    "    result = -m0*g/c/c + (m0+c*t0)/c/c*np.exp(-c/m0*t0)\n",
    "    return result"
   ]
  },
  {
   "cell_type": "code",
   "execution_count": null,
   "metadata": {},
   "outputs": [],
   "source": [
    "u0 = 10\n",
    "newton(?)"
   ]
  },
  {
   "cell_type": "markdown",
   "metadata": {},
   "source": [
    "# Activity 5 - Newton's Method with Numerical Derivative"
   ]
  },
  {
   "cell_type": "code",
   "execution_count": null,
   "metadata": {},
   "outputs": [],
   "source": [
    "def newton2(f, x0, tol):\n",
    "    niter = 0\n",
    "    err = 1e5\n",
    "    while err > tol and niter < 20:\n",
    "        h = 1e-5*x0 + 1e-12\n",
    "        df = (f(x0+h) - f(x0))/h\n",
    "        x1 = x0 - f(x0)/df\n",
    "        x0 = x1\n",
    "        err = abs(f(x1))\n",
    "        niter +=1\n",
    "    return x1, err, niter"
   ]
  },
  {
   "cell_type": "code",
   "execution_count": null,
   "metadata": {},
   "outputs": [],
   "source": [
    "newton2(?)"
   ]
  }
 ],
 "metadata": {
  "anaconda-cloud": {},
  "kernelspec": {
   "display_name": "Python 3",
   "language": "python",
   "name": "python3"
  },
  "language_info": {
   "codemirror_mode": {
    "name": "ipython",
    "version": 3
   },
   "file_extension": ".py",
   "mimetype": "text/x-python",
   "name": "python",
   "nbconvert_exporter": "python",
   "pygments_lexer": "ipython3",
   "version": "3.8.3"
  },
  "toc": {
   "colors": {
    "hover_highlight": "#DAA520",
    "navigate_num": "#000000",
    "navigate_text": "#333333",
    "running_highlight": "#FF0000",
    "selected_highlight": "#FFD700",
    "sidebar_border": "#EEEEEE",
    "wrapper_background": "#FFFFFF"
   },
   "moveMenuLeft": true,
   "nav_menu": {
    "height": "12px",
    "width": "252px"
   },
   "navigate_menu": true,
   "number_sections": true,
   "sideBar": true,
   "threshold": 4,
   "toc_cell": false,
   "toc_section_display": "block",
   "toc_window_display": false,
   "widenNotebook": false
  }
 },
 "nbformat": 4,
 "nbformat_minor": 2
}
