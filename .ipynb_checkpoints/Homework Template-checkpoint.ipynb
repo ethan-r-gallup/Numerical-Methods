{
 "cells": [
  {
   "cell_type": "markdown",
   "metadata": {},
   "source": [
    "# Homework 1\n",
    "## Tony Saad\n",
    "## Unid: u0123456"
   ]
  },
  {
   "cell_type": "markdown",
   "metadata": {},
   "source": [
    "This is a homework template and contains a generic set of problems. You do not have to typeset the questions - those are given as a PDF."
   ]
  },
  {
   "cell_type": "markdown",
   "metadata": {},
   "source": [
    "## Problem 1\n",
    "We are asked to compute the true error when approximating the derivative of the function $f(x)=2e^{0.5x}$ at $x=2$ using the approximation:\n",
    "\\begin{equation}\n",
    "f'(x)\\approx \\frac{ f(x + h) - f(x) }{ h }\n",
    "\\end{equation}\n",
    "for $h = 0.5$ and $h = 0.05$, respectively. "
   ]
  },
  {
   "cell_type": "markdown",
   "metadata": {},
   "source": [
    "### Solution\n",
    "To compute the true error, we first need to compute the true value of the derivative of $f(x)=2e^{0.5x}$. This is given by: $f'(x) = e^{0.5x}$."
   ]
  },
  {
   "cell_type": "code",
   "execution_count": 19,
   "metadata": {},
   "outputs": [
    {
     "name": "stdout",
     "output_type": "stream",
     "text": [
      "True value =  2.718281828459045\n"
     ]
    }
   ],
   "source": [
    "import math\n",
    "x = 2\n",
    "trueValue = math.exp(0.5*x)\n",
    "print(\"True value = \", trueValue)"
   ]
  },
  {
   "cell_type": "markdown",
   "metadata": {},
   "source": [
    "Now that we have the true value, we need to compute the approximation. To do this, it is best to define a Python function that computes the derivative approximation. Let's call that function df. \n",
    "\n",
    "The df function will take three arguments: the function that we are diffferentiating, the value of x, and the value of h and return the derivative approximation.\n",
    "\n",
    "We also have to define another Python function for $2e^{0.5x}$ so that we can pass that to the "
   ]
  },
  {
   "cell_type": "code",
   "execution_count": 20,
   "metadata": {},
   "outputs": [],
   "source": [
    "def myfunction(x):\n",
    "    return 2*math.exp(0.5*x)\n",
    "\n",
    "def df(f,x,h):\n",
    "    return (f(x+h) - f(x))/h"
   ]
  },
  {
   "cell_type": "markdown",
   "metadata": {},
   "source": [
    "Now we can compute the approximate values"
   ]
  },
  {
   "cell_type": "code",
   "execution_count": 21,
   "metadata": {},
   "outputs": [
    {
     "name": "stdout",
     "output_type": "stream",
     "text": [
      "Error with h = 0.5: 0.36996268755214023\n",
      "Error with h = 0.05: 0.03426345581317802\n"
     ]
    }
   ],
   "source": [
    "h = 0.5\n",
    "approx1 = df(myfunction, x, h)\n",
    "err1 = abs(approx1 - trueValue)\n",
    "h = 0.05\n",
    "approx2 = df(myfunction, x, h)\n",
    "err2 = abs(approx2 - trueValue)\n",
    "print(\"Error with h = 0.5:\", err1)\n",
    "print(\"Error with h = 0.05:\", err2)"
   ]
  },
  {
   "cell_type": "markdown",
   "metadata": {},
   "source": [
    "The true error when using $h = 0.5$ is $E_t = 0.37$ and for $h = 0.05$, the error is $E_t = 0.034$, about one order of magnitude smaller than the error with $h =0.5$."
   ]
  },
  {
   "cell_type": "code",
   "execution_count": null,
   "metadata": {},
   "outputs": [],
   "source": []
  }
 ],
 "metadata": {
  "kernelspec": {
   "display_name": "Python 3",
   "language": "python",
   "name": "python3"
  },
  "language_info": {
   "codemirror_mode": {
    "name": "ipython",
    "version": 3
   },
   "file_extension": ".py",
   "mimetype": "text/x-python",
   "name": "python",
   "nbconvert_exporter": "python",
   "pygments_lexer": "ipython3",
   "version": "3.8.5"
  }
 },
 "nbformat": 4,
 "nbformat_minor": 2
}
