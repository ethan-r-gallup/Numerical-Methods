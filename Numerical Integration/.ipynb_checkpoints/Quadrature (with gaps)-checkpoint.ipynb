{
 "cells": [
  {
   "cell_type": "markdown",
   "metadata": {},
   "source": [
    "# Numerical Integration - Coding Activities\n",
    "## CH EN 2450 - Numerical Methods\n",
    "**Prof. Tony Saad (<a>www.tsaad.net</a>) <br/>Department of Chemical Engineering <br/>University of Utah**\n",
    "<hr/>"
   ]
  },
  {
   "cell_type": "code",
   "execution_count": null,
   "metadata": {},
   "outputs": [],
   "source": [
    "import numpy as np\n",
    "%matplotlib inline\n",
    "%config InlineBackend.figure_format = 'svg'\n",
    "import matplotlib.pyplot as plt\n",
    "from scipy import integrate"
   ]
  },
  {
   "cell_type": "markdown",
   "metadata": {},
   "source": [
    "# Activity 1\n",
    "Develop three Python routines that implement the left-point, right-point, and mid-point formulas. The routine arguments must include: (1) a function, and (2) the interval (a,b) on which the function is to be evaluated. Then apply these functions to calculate ￼$\\int_0^1 {[1 + 0.5 \\sin^2(1.75\\pi x)]\\text{d}x}$"
   ]
  },
  {
   "cell_type": "markdown",
   "metadata": {},
   "source": [
    "Define the function $f(x) = 1 + 0.5\\sin^2(1.75\\pi x)$"
   ]
  },
  {
   "cell_type": "code",
   "execution_count": 1,
   "metadata": {},
   "outputs": [
    {
     "data": {
      "text/plain": [
       "<matplotlib.collections.PolyCollection at 0x17a821fbc10>"
      ]
     },
     "execution_count": 1,
     "metadata": {},
     "output_type": "execute_result"
    },
    {
     "data": {
      "image/png": "[encoded data removed]",
      "text/plain": [
       "<Figure size 432x288 with 1 Axes>"
      ]
     },
     "metadata": {
      "needs_background": "light"
     },
     "output_type": "display_data"
    }
   ],
   "source": [
    "def myf(x):\n",
    "    return 1 + 0.5*np.sin(1.75*np.pi*x)**2\n",
    "x = np.linspace(0,1,100)\n",
    "plt.plot(x,myf(x))\n",
    "ax = plt.gca()\n",
    "ax.fill_between(x,myf(x),edgecolor='k', facecolor='lightgray',linewidth=1)\n",
    "# plt.ylim(0,2)"
   ]
  },
  {
   "cell_type": "code",
   "execution_count": 2,
   "metadata": {},
   "outputs": [
    {
     "ename": "SyntaxError",
     "evalue": "invalid syntax (<ipython-input-2-8dba101cc8d6>, line 2)",
     "output_type": "error",
     "traceback": [
      "\u001b[1;36m  File \u001b[1;32m\"<ipython-input-2-8dba101cc8d6>\"\u001b[1;36m, line \u001b[1;32m2\u001b[0m\n\u001b[1;33m    return ?\u001b[0m\n\u001b[1;37m           ^\u001b[0m\n\u001b[1;31mSyntaxError\u001b[0m\u001b[1;31m:\u001b[0m invalid syntax\n"
     ]
    }
   ],
   "source": [
    "def leftrule(f,a,b):\n",
    "    return (b-)\n",
    "def rightrule(f,a,b):\n",
    "    return ?\n",
    "def midpointrule(f,a,b):\n",
    "    return ?"
   ]
  },
  {
   "cell_type": "code",
   "execution_count": null,
   "metadata": {},
   "outputs": [],
   "source": [
    "print(leftrule(myf,0,1))\n",
    "print(rightrule(myf,0,1))\n",
    "print(midpointrule(myf,0,1))"
   ]
  },
  {
   "cell_type": "markdown",
   "metadata": {},
   "source": [
    "# Activity 2\n",
    "Develop a Python code that computes the integral for an analytical function with arbitrary number of points intervals n. Use the left point, right point, and midpoint rules"
   ]
  },
  {
   "cell_type": "code",
   "execution_count": null,
   "metadata": {},
   "outputs": [],
   "source": [
    "def leftrule(f,a,b,n):\n",
    "    '''\n",
    "    Computes the integral of f(x) using the left-point rule.     \n",
    "    f: Any Python function\n",
    "    a: Lower integral bound\n",
    "    b: Upper integral bound\n",
    "    n: Number of quadrature segments\n",
    "    \n",
    "    Returns the integral of f(x) based on the midpoint rule\n",
    "    '''    \n",
    "    x = np.linspace(?,?,?) # how many points do we need for n segments?\n",
    "    result = 0.0\n",
    "    # now loop over the segments\n",
    "    for i in range(?,?):\n",
    "        a = x[i]\n",
    "        b = ?\n",
    "        result += ?\n",
    "    return result\n",
    "\n",
    "def rightrule(f,a,b,n):\n",
    "    '''\n",
    "    Computes the integral of f(x) using the right-point rule.     \n",
    "    f: Any Python function\n",
    "    a: Lower integral bound\n",
    "    b: Upper integral bound\n",
    "    n: Number of quadrature segments\n",
    "    \n",
    "    Returns the integral of f(x) based on the midpoint rule\n",
    "    '''        \n",
    "    x = np.linspace(?,?,?) # how many points do we need for n segments?\n",
    "    result = 0.0\n",
    "    # now loop over the segments\n",
    "    for i in range(?,?):\n",
    "        a = x[i]\n",
    "        b = ?\n",
    "        result += ?\n",
    "    return result\n",
    "\n",
    "def midpointrule(f,a,b,n):\n",
    "    '''\n",
    "    Computes the integral of f(x) using the mid-point rule.     \n",
    "    f: Any Python function\n",
    "    a: Lower integral bound\n",
    "    b: Upper integral bound\n",
    "    n: Number of quadrature segments\n",
    "    \n",
    "    Returns the integral of f(x) based on the midpoint rule\n",
    "    '''        \n",
    "    x = np.linspace(?,?,?) # how many points do we need for n segments?\n",
    "    result = 0.0\n",
    "    # now loop over the segments\n",
    "    for i in range(?,?):\n",
    "        a = x[i]\n",
    "        b = ?\n",
    "        result += ?\n",
    "    return result"
   ]
  },
  {
   "cell_type": "code",
   "execution_count": null,
   "metadata": {},
   "outputs": [],
   "source": [
    "leftrule(myf,0,1,200)"
   ]
  },
  {
   "cell_type": "code",
   "execution_count": null,
   "metadata": {},
   "outputs": [],
   "source": [
    "rightrule(myf,0,1,200)"
   ]
  },
  {
   "cell_type": "code",
   "execution_count": null,
   "metadata": {},
   "outputs": [],
   "source": [
    "midpointrule(myf,0,1,200)"
   ]
  },
  {
   "cell_type": "markdown",
   "metadata": {},
   "source": [
    "# Activity 3\n",
    "Using the left-point or right-point rule, develop a Python code that integrates discrete data. Apply it to calculate the world emissions of CO2 per capita."
   ]
  },
  {
   "cell_type": "code",
   "execution_count": null,
   "metadata": {},
   "outputs": [],
   "source": [
    "data = np.loadtxt('CO2 World Emissions.txt',delimiter=' ')\n",
    "xi = data[:,0]\n",
    "yi = data[:,1]\n",
    "plt.plot(xi,yi,'o')\n",
    "plt.grid()\n",
    "plt.xlabel('year')\n",
    "plt.ylabel('Metric tons of CO2 per capita, Worldwide')"
   ]
  },
  {
   "cell_type": "code",
   "execution_count": null,
   "metadata": {},
   "outputs": [],
   "source": [
    "def leftrule2(x,y):\n",
    "    result = 0.0\n",
    "    n = len(x)\n",
    "    # loop over the data points\n",
    "    for i in range(?,?):\n",
    "        a = ?\n",
    "        b = ?\n",
    "        fa = ?\n",
    "        result += (b-a) * fa\n",
    "    return result\n",
    "\n",
    "def rightrule2(x,y):\n",
    "    result = 0.0\n",
    "    n = len(x)\n",
    "    for i in range(?,?):\n",
    "        a = ?\n",
    "        b = ?\n",
    "        fb = ?\n",
    "        result += (b-a) * fb\n",
    "    return result"
   ]
  },
  {
   "cell_type": "code",
   "execution_count": null,
   "metadata": {},
   "outputs": [],
   "source": [
    "leftrule2(xi,yi)"
   ]
  },
  {
   "cell_type": "code",
   "execution_count": null,
   "metadata": {},
   "outputs": [],
   "source": [
    "rightrule2(xi,yi)"
   ]
  },
  {
   "cell_type": "markdown",
   "metadata": {},
   "source": [
    "# Activity 4\n",
    "Develop a Python routine that computes the integral of a function using the Trapezoidal rule for an arbitrary number of intervals n, and use it to calculate $\\int_0^1 {[1 + 0.5 \\sin^2(1.75\\pi x)]\\text{d}x}$ ￼ "
   ]
  },
  {
   "cell_type": "code",
   "execution_count": null,
   "metadata": {},
   "outputs": [],
   "source": [
    "def traprulef(f, a, b, n):\n",
    "    '''\n",
    "    Computes the integral of f(x) using the Trapezoidal rule. \n",
    "    \n",
    "    f: Any Python function\n",
    "    a: Lower integral bound\n",
    "    b: Upper integral bound\n",
    "    npts: Number of quadrature segments\n",
    "    \n",
    "    Returns the integral of f(x) based on the midpoint rule\n",
    "    '''    \n",
    "    x = np.linspace(?,?,?)\n",
    "    sum = 0.0\n",
    "    for i in range(?,?):\n",
    "        a = ?\n",
    "        b = ?\n",
    "        sum += 0.5*(b-a)*(f(a) + f(b))\n",
    "    return sum"
   ]
  },
  {
   "cell_type": "code",
   "execution_count": null,
   "metadata": {},
   "outputs": [],
   "source": [
    "a = 1\n",
    "b = 2.3\n",
    "exact = integrate.quad(myf,a,b)[0]\n",
    "print(exact)"
   ]
  },
  {
   "cell_type": "code",
   "execution_count": null,
   "metadata": {},
   "outputs": [],
   "source": [
    "n = 200\n",
    "v1 = traprulef(myf,a,b,n)\n",
    "e1 = abs(v1 - exact)/exact\n",
    "v2 = traprulef(myf,a,b,2*n)\n",
    "e2 = abs(v2 - exact)/exact\n",
    "print(e1/e2)"
   ]
  },
  {
   "cell_type": "code",
   "execution_count": null,
   "metadata": {},
   "outputs": [],
   "source": [
    "n = 200\n",
    "v1 = midpointrule(myf,a,b,n)\n",
    "e1 = abs(v1 - exact)\n",
    "v2 = midpointrule(myf,a,b,2*n)\n",
    "e2 = abs(v2 - exact)\n",
    "print(e1/e2)"
   ]
  },
  {
   "cell_type": "markdown",
   "metadata": {},
   "source": [
    "# Activity 5\n",
    "Using the Trapezoidal rule, develop a Python routine that computes the integral of discrete data (xi,yi). Test your routine on the World Emissions of CO2."
   ]
  },
  {
   "cell_type": "code",
   "execution_count": null,
   "metadata": {},
   "outputs": [],
   "source": [
    "def traprule(x,y):\n",
    "    '''\n",
    "    Integrates a discrete set of data using the Trapezoidal rule.\n",
    "    \n",
    "    x: Values of the independent variable\n",
    "    y: Values of the dependent variable\n",
    "    \n",
    "    Returns the integral of f(x) based on the midpoint rule\n",
    "    '''\n",
    "    sum = 0.0\n",
    "    n = len(x)\n",
    "    for i in range(?,?):\n",
    "        a = ?\n",
    "        b = ?\n",
    "        fa = ?\n",
    "        fb = ?\n",
    "        sum += ?\n",
    "    return sum"
   ]
  },
  {
   "cell_type": "code",
   "execution_count": null,
   "metadata": {},
   "outputs": [],
   "source": [
    "traprule(xi,yi)"
   ]
  }
 ],
 "metadata": {
  "anaconda-cloud": {},
  "hide_input": false,
  "kernelspec": {
   "display_name": "Python 3",
   "language": "python",
   "name": "python3"
  },
  "language_info": {
   "codemirror_mode": {
    "name": "ipython",
    "version": 3
   },
   "file_extension": ".py",
   "mimetype": "text/x-python",
   "name": "python",
   "nbconvert_exporter": "python",
   "pygments_lexer": "ipython3",
   "version": "3.8.5"
  },
  "toc": {
   "colors": {
    "hover_highlight": "#DAA520",
    "navigate_num": "#000000",
    "navigate_text": "#333333",
    "running_highlight": "#FF0000",
    "selected_highlight": "#FFD700",
    "sidebar_border": "#EEEEEE",
    "wrapper_background": "#FFFFFF"
   },
   "moveMenuLeft": true,
   "nav_menu": {
    "height": "12px",
    "width": "252px"
   },
   "navigate_menu": true,
   "number_sections": true,
   "sideBar": true,
   "threshold": 4,
   "toc_cell": false,
   "toc_section_display": "block",
   "toc_window_display": false,
   "widenNotebook": false
  }
 },
 "nbformat": 4,
 "nbformat_minor": 2
}
