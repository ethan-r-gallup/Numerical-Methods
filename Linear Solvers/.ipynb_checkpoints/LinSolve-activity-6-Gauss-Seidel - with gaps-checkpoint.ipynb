{
 "cells": [
  {
   "cell_type": "markdown",
   "metadata": {},
   "source": [
    "# CHEN 2450 - Coding Activity 6\n",
    "# Gauss Siedel Iterative Solver\n",
    "## Prof. Tony Saad"
   ]
  },
  {
   "cell_type": "code",
   "execution_count": 1,
   "metadata": {},
   "outputs": [],
   "source": [
    "import numpy as np\n",
    "from numpy.linalg import norm\n",
    "np.set_printoptions(precision=5)"
   ]
  },
  {
   "cell_type": "markdown",
   "metadata": {},
   "source": [
    "Use the Gauss Siedel iterative solver to find the solution of the following system of equations:\n",
    "\\begin{equation}\n",
    "\\begin{bmatrix}\n",
    "5 & 1 & 1\\\\ \n",
    "2 & 3 & 0\\\\ \n",
    "3 & 0 & 4\n",
    "\\end{bmatrix}\n",
    "\\begin{pmatrix}\n",
    "x_1\\\\ \n",
    "x_2\\\\ \n",
    "x_3\n",
    "\\end{pmatrix}\n",
    "=\n",
    "\\begin{pmatrix}\n",
    "10\\\\ \n",
    "11\\\\ \n",
    "12\n",
    "\\end{pmatrix}\n",
    "\\end{equation}"
   ]
  },
  {
   "cell_type": "markdown",
   "metadata": {},
   "source": [
    "Here is the Jacobi iterative solver"
   ]
  },
  {
   "cell_type": "code",
   "execution_count": 2,
   "metadata": {},
   "outputs": [],
   "source": [
    "def jacobi(A,b,xguess,tol):\n",
    "    # Make sure A is a numpy array\n",
    "    A = np.array(A)\n",
    "    [nr,nc] = A.shape\n",
    "    iter = 0 # counter\n",
    "    x  = np.zeros(nr) # declare x array\n",
    "    xold = xguess.copy()\n",
    "    error = norm(b - A.dot(xold), 2)    \n",
    "    print ('i \\t x1 \\t x2 \\t x3 \\t error \\n')\n",
    "    while (error > tol):\n",
    "        print(iter, '\\t', x, error)\n",
    "        # loop over the rows\n",
    "        for i in range(0,nr):\n",
    "            x[i] = xold[i] + 1.0/A[i][i] * (b[i] - A[i].dot(xold))\n",
    "        error = norm( b - A.dot(x), 2 )\n",
    "        #make sure x and xguess are NOT the same\n",
    "        xold = x.copy()\n",
    "        iter +=1\n",
    "    return x"
   ]
  },
  {
   "cell_type": "markdown",
   "metadata": {},
   "source": [
    "Define your coefficient matrix, RHS, initial guess, and max iterations"
   ]
  },
  {
   "cell_type": "code",
   "execution_count": 3,
   "metadata": {},
   "outputs": [],
   "source": [
    "A =[[5.0,1.0,1.0],\n",
    "    [2.0,3.0,0.0],\n",
    "    [3.0,0.0,4.0]]\n",
    "b  = [10.0,11.0,12.0]\n",
    "x0 = [1.0,1.0,1.0]\n",
    "maxIter = 10"
   ]
  },
  {
   "cell_type": "markdown",
   "metadata": {},
   "source": [
    "Modify the Jacobi iterative solver to use the most recent data - that's the Gauss-Seidel method"
   ]
  },
  {
   "cell_type": "code",
   "execution_count": 7,
   "metadata": {},
   "outputs": [],
   "source": [
    "def gauss_seidel(A,b,xguess,tol):\n",
    "    # Make sure A is a numpy array\n",
    "    A = np.array(A)\n",
    "    [nr,nc] = A.shape\n",
    "    count = 0 # counter\n",
    "    x = np.array(xguess)\n",
    "    print(x)\n",
    "    error = norm(b - A.dot(x), 2)\n",
    "    print ('i \\t x1 \\t x2 \\t x3 \\t error \\n')\n",
    "    while (count < 10):\n",
    "        print(count, '\\t', x, error)\n",
    "        # loop over the rows\n",
    "        for i in range(0,nr):\n",
    "            x[i] = x[i] + 1.0/A[i][i] * (b[i] - x[i-1])\n",
    "        error = norm( b - A.dot(x), 2 )\n",
    "        count +=1\n",
    "    return x"
   ]
  },
  {
   "cell_type": "markdown",
   "metadata": {},
   "source": [
    "Now compare the behavior of both the Jacobi and Gauss-Seidel solvers. Experiment with different tolerances - what do you observe?"
   ]
  },
  {
   "cell_type": "code",
   "execution_count": 9,
   "metadata": {},
   "outputs": [
    {
     "name": "stdout",
     "output_type": "stream",
     "text": [
      "Jacobi solution:\n",
      "i \t x1 \t x2 \t x3 \t error \n",
      "\n",
      "0 \t [0. 0. 0.] 8.366600265340756\n",
      "1 \t [1.6  3.   2.25] 3.9041644432579936\n",
      "2 \t [0.95 2.6  1.8 ] 2.492990172463583\n",
      "3 \t [1.12    3.03333 2.2875 ] 1.1061799255897664\n",
      "4 \t [0.93583 2.92    2.16   ] 0.7063472155313476\n",
      "5 \t [0.984   3.04278 2.29812] 0.31341764558376595\n",
      "6 \t [0.93182 3.01067 2.262  ] 0.20013171106721395\n",
      "7 \t [0.94547 3.04545 2.30114] 0.08880166624873273\n",
      "8 \t [0.93068 3.03636 2.2909 ] 0.056703984802377434\n",
      "9 \t [0.93455 3.04621 2.30199] 0.025160472103808406\n",
      "10 \t [0.93036 3.04363 2.29909] 0.01606612902734052\n",
      "11 \t [0.93146 3.04643 2.30223] 0.007128800429411085\n",
      "12 \t [0.93027 3.0457  2.30141] 0.0045520698910787374\n",
      "13 \t [0.93058 3.04649 2.3023 ] 0.00201982678833288\n",
      "14 \t [0.93024 3.04628 2.30207] 0.001289753135805391\n",
      "15 \t [0.93033 3.0465  2.30232] 0.0005722842566943892\n",
      "16 \t [0.93024 3.04645 2.30225] 0.0003654300551456155\n",
      "17 \t [0.93026 3.04651 2.30232] 0.00016214720606388497\n",
      "18 \t [0.93023 3.04649 2.3023 ] 0.0001035385156255809\n",
      "19 \t [0.93024 3.04651 2.30232] 4.594170838486864e-05\n",
      "20 \t [0.93023 3.04651 2.30232] 2.9335912758539232e-05\n",
      "21 \t [0.93023 3.04651 2.30233] 1.30168173738841e-05\n",
      "Gauss-Seidel solution:\n",
      "[1. 1. 1.]\n",
      "i \t x1 \t x2 \t x3 \t error \n",
      "\n",
      "0 \t [1. 1. 1.] 8.366600265340756\n",
      "1 \t [1.6 2.6 1.8] 2.3999999999999986\n",
      "2 \t [1.12 2.92 2.16] 0.6800000000000015\n",
      "3 \t [0.984   3.01067 2.262  ] 0.19266666666666765\n",
      "4 \t [0.94547 3.03636 2.2909 ] 0.054588888888888576\n",
      "5 \t [0.93455 3.04363 2.29909] 0.01546685185185126\n",
      "6 \t [0.93146 3.0457  2.30141] 0.004382274691357324\n",
      "7 \t [0.93058 3.04628 2.30207] 0.0012416444958844863\n",
      "8 \t [0.93033 3.04645 2.30225] 0.00035179927383310883\n",
      "9 \t [0.93026 3.04649 2.3023 ] 9.967646092157167e-05\n"
     ]
    },
    {
     "data": {
      "text/plain": [
       "array([0.93024, 3.04651, 2.30232])"
      ]
     },
     "execution_count": 9,
     "metadata": {},
     "output_type": "execute_result"
    }
   ],
   "source": [
    "tol = 1e-5\n",
    "\n",
    "print('Jacobi solution:')\n",
    "jacobi(A,b,x0,tol)\n",
    "\n",
    "print('Gauss-Seidel solution:')\n",
    "gauss_seidel(A,b,x0,tol)"
   ]
  }
 ],
 "metadata": {
  "kernelspec": {
   "display_name": "Python 3",
   "language": "python",
   "name": "python3"
  },
  "language_info": {
   "codemirror_mode": {
    "name": "ipython",
    "version": 3
   },
   "file_extension": ".py",
   "mimetype": "text/x-python",
   "name": "python",
   "nbconvert_exporter": "python",
   "pygments_lexer": "ipython3",
   "version": "3.8.5"
  }
 },
 "nbformat": 4,
 "nbformat_minor": 4
}
