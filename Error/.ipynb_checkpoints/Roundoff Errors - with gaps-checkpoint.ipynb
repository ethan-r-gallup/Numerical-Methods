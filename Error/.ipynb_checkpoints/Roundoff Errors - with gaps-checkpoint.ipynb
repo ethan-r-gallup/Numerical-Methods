{
 "cells": [
  {
   "cell_type": "markdown",
   "metadata": {},
   "source": [
    "# CHEN 2450 - Coding Activity on Round-Off Errors\n",
    "## Prof. Tony Saad"
   ]
  },
  {
   "cell_type": "code",
   "execution_count": 2,
   "metadata": {},
   "outputs": [],
   "source": [
    "import numpy as np"
   ]
  },
  {
   "cell_type": "markdown",
   "metadata": {},
   "source": [
    "Use Python to sum the number 1e-5, 100,000 times. Use 16, 32, 64, and 128 bit precision floats and compare the numerical results to the true value."
   ]
  },
  {
   "cell_type": "markdown",
   "metadata": {},
   "source": [
    "The true value is 1. However, due to round off, adding 1e-5 one hundred thousand times is not going to result in 1. The result will also depend on the \"precision\" used to represent the number."
   ]
  },
  {
   "cell_type": "markdown",
   "metadata": {},
   "source": [
    "To solve this problem we are going to use a for loop and add the number 1e-5 for 100,000 times.\n",
    "We will need the following:\n",
    "1. Define a variable for each precision representation of 1e-5 (see below)\n",
    "2. Define a variable to store the result for each summation for each of the precisions\n",
    "3. Create an appropriate for loop - loop 100,000 times and add up 1e-5\n",
    "4. Once the loop is complete, calculate the error (which error???) committed in each calculation\n",
    "5. Print the errors"
   ]
  },
  {
   "cell_type": "code",
   "execution_count": 6,
   "metadata": {},
   "outputs": [
    {
     "name": "stdout",
     "output_type": "stream",
     "text": [
      "Errors:\n",
      "16 bit error: -0.0013580322265625 %\n",
      "32 bit error: 2.5262124836444855e-08 %\n",
      "64 bit error: 1.91624494050302e-12 %\n",
      "96 bit error: 1.91624494050302e-12 %\n"
     ]
    }
   ],
   "source": [
    "xhalf   = np.float16(1e-5) # define half precision representation of 1e-5\n",
    "xsingle = np.float32(1e-5) # define half precision representation of 1e-5\n",
    "xdouble = np.float64(1e-5) # define half precision representation of 1e-5\n",
    "xtriple = np.longdouble(1e-5)# define half precision representation of 1e-5\n",
    "\n",
    "# define variables to store the summation results for each of the precisions. Initialize to 0\n",
    "resultHalf   = 0 \n",
    "resultSingle = 0\n",
    "resultDouble = 0\n",
    "resultQuad   = 0\n",
    "\n",
    "for i in range(100000):\n",
    "    resultHalf += xhalf\n",
    "    resultSingle += xsingle\n",
    "    resultDouble += xdouble\n",
    "    resultQuad+= xtriple\n",
    "\n",
    "# calculate the errors committed in each calculation:\n",
    "eHalf = 1.0 - resultHalf\n",
    "eSingle = 1.0 - resultSingle\n",
    "eDouble = 1.0 - resultDouble\n",
    "eQuad = 1.0 - resultQuad\n",
    "    \n",
    "# Now print the errors    \n",
    "print(\"Errors:\")\n",
    "\n",
    "print(\"16 bit error:\", eHalf, '%')\n",
    "print(\"32 bit error:\", eSingle, '%')\n",
    "print(\"64 bit error:\", eDouble, '%')\n",
    "print(\"96 bit error:\",eQuad, '%')"
   ]
  },
  {
   "cell_type": "code",
   "execution_count": null,
   "metadata": {},
   "outputs": [],
   "source": []
  }
 ],
 "metadata": {
  "kernelspec": {
   "display_name": "Python 3",
   "language": "python",
   "name": "python3"
  },
  "language_info": {
   "codemirror_mode": {
    "name": "ipython",
    "version": 3
   },
   "file_extension": ".py",
   "mimetype": "text/x-python",
   "name": "python",
   "nbconvert_exporter": "python",
   "pygments_lexer": "ipython3",
   "version": "3.8.5"
  },
  "toc": {
   "colors": {
    "hover_highlight": "#DAA520",
    "navigate_num": "#000000",
    "navigate_text": "#333333",
    "running_highlight": "#FF0000",
    "selected_highlight": "#FFD700",
    "sidebar_border": "#EEEEEE",
    "wrapper_background": "#FFFFFF"
   },
   "moveMenuLeft": true,
   "nav_menu": {
    "height": "12px",
    "width": "252px"
   },
   "navigate_menu": true,
   "number_sections": true,
   "sideBar": true,
   "threshold": 4,
   "toc_cell": false,
   "toc_section_display": "block",
   "toc_window_display": false,
   "widenNotebook": false
  }
 },
 "nbformat": 4,
 "nbformat_minor": 2
}
