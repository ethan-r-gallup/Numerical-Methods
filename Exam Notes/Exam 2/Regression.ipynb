{
 "cells": [
  {
   "cell_type": "markdown",
   "metadata": {},
   "source": [
    "# Regression"
   ]
  },
  {
   "cell_type": "code",
   "execution_count": 1,
   "metadata": {},
   "outputs": [],
   "source": [
    "import matplotlib.pyplot as plt\n",
    "import matplotlib as mpl\n",
    "import seaborn as sns\n",
    "sns.set_theme()\n",
    "sns.set_style('whitegrid')\n",
    "%matplotlib inline\n",
    "%config InlineBackend.figure_format = 'svg'\n",
    "mpl.rcParams['lines.markeredgecolor'] = 'w'\n",
    "mpl.rcParams['lines.markeredgewidth'] = .5\n",
    "import numpy as np"
   ]
  },
  {
   "cell_type": "markdown",
   "metadata": {},
   "source": [
    "### Linear Regression"
   ]
  },
  {
   "cell_type": "markdown",
   "metadata": {},
   "source": [
    "Assume dataset $[\\mathbf{x}, \\mathbf{y}]$ can be approximated by a straight line.\n",
    "The objective is to find $f(x)=a_1 x+a_0$ s.t. $S$, the squared difference between $f$ and $\\mathbf{y}$ is minimized.\n",
    "\n",
    "| | |\n",
    "|:-|:-:|\n",
    "|<img style=\"float: right;\" src=\"Screenshot 2022-03-30 152916.png\" width=300>|<font size=\"5\">$e_i = y_i-f_i $<br />$ S = e^2_1 + e^2_2+\\dots + e^2_n$ <br />$S=\\sum e_i^2$<br />$S= \\sum\\left(y_i-f_i\\right)^2$<br />$f_i=a_1x_i+a_0$<br />$S= \\sum\\left(y_i-a_1x_i-a_0\\right)^2$</font>|\n",
    "|<font size=\"4\">Goal: minimize $S$</font>|<font size=\"5\"> \\begin{cases}\n",
    "  \\frac{\\partial S}{\\partial a_0}& =0 \\\\\n",
    "  \\frac{\\partial S}{\\partial a_1}& =0\n",
    "\\end{cases}</font>|\n",
    "\n",
    "\n",
    "<font size=\"5\">\\begin{cases}\n",
    "\\frac{\\partial S}{\\partial a_0}& = -2\\sum\\left(y_i-a_1 x_i-a_0\\right) = 0\\\\\n",
    "\\frac{\\partial S}{\\partial a_1}& = -2\\sum x_i \\left(y_i-a_1 x_i-a_0\\right) = 0\n",
    "\\end{cases}</font>\n",
    "\n",
    "<font size=\"5\">\\begin{cases}\n",
    "\\frac{\\partial S}{\\partial a_0}& = \\sum y_i-a_1 \\sum x_i-\\sum a_0 = 0\\\\\n",
    "\\frac{\\partial S}{\\partial a_1}& = \\sum x_i y_i-a_1 \\sum x^2_i-a_0\\sum x_i = 0\n",
    "\\end{cases}</font>\n",
    "\n",
    "<font size=\"5\">\\begin{cases}\n",
    "\\sum y_i-a_1 \\sum x_i-a_0 N = 0\\\\\n",
    "\\sum x_i y_i-a_1 \\sum x^2_i-a_0\\sum x_i = 0\n",
    "\\end{cases}</font>\n",
    "\n",
    "\n",
    "<font size=\"5\">$$\n",
    "\\begin{bmatrix}\n",
    "N & \\sum x_i\\\\\n",
    "\\sum x_i & \\sum x^2_i\n",
    "\\end{bmatrix}\n",
    "\\begin{bmatrix}\n",
    "a_0\\\\\n",
    "a_1\n",
    "\\end{bmatrix}=\n",
    "\\begin{bmatrix}\n",
    "\\sum y_i\\\\\n",
    "\\sum x_i y_i\n",
    "\\end{bmatrix}\n",
    "$$</font>"
   ]
  },
  {
   "cell_type": "markdown",
   "metadata": {},
   "source": [
    "##### Generalized system\n",
    "<img  src=\"Screenshot 2022-03-30 161236.png\" width=600>\n",
    "<img  src=\"Screenshot 2022-03-30 163008.png\" width=600>\n",
    "This only works for linear models although some nonlinear models may be linearized algebraically."
   ]
  },
  {
   "cell_type": "markdown",
   "metadata": {},
   "source": [
    "### Standard Error\n",
    "\n",
    "<font size=\"4\">$$\n",
    "S_{y/x} = \\sqrt{\\frac{\\sum(y_i-f_i)^2}{n-2}^{ ^{ ^{ ^{ ^{ }}}}}}\n",
    "$$</font>"
   ]
  },
  {
   "cell_type": "markdown",
   "metadata": {},
   "source": [
    "### Coefficient of Determination $R^2$\n",
    "This value is based on the difference between the standard deviation from the mean of the data and the standard error of the regression line.\n",
    "\n",
    "<font size=\"4\">$$\n",
    "S_{y/x} = \\sqrt{\\frac{\\sum(y_i-f_i)^2}{n-2}^{ ^{ ^{ ^{ ^{ }}}}}} \\ \\ \\ \\ \\ \\rightarrow \\ \\ \\ \\ \\ S_r = \\sum(y_i-f_i)^2\n",
    "$$</font>\n",
    "<font size=\"4\">$$\n",
    "S_{y} = \\sqrt{\\frac{\\sum(y_i-\\bar{y})^2}{n-1}^{ ^{ ^{ ^{ ^{ }}}}}} \\ \\ \\ \\ \\ \\rightarrow \\ \\ \\ \\ \\ S_r = \\sum(y_i-\\bar{y})^2\n",
    "$$</font>\n",
    "<font size=\"4\">$$\n",
    "R^2 = \\frac{S_t-S_r}{S_t} = 1-\\frac{S_r}{S_t}\n",
    "$$</font>"
   ]
  }
 ],
 "metadata": {
  "hide_input": false,
  "kernelspec": {
   "display_name": "Python 3",
   "language": "python",
   "name": "python3"
  },
  "language_info": {
   "codemirror_mode": {
    "name": "ipython",
    "version": 3
   },
   "file_extension": ".py",
   "mimetype": "text/x-python",
   "name": "python",
   "nbconvert_exporter": "python",
   "pygments_lexer": "ipython3",
   "version": "3.8.5"
  }
 },
 "nbformat": 4,
 "nbformat_minor": 4
}
