{
 "cells": [
  {
   "cell_type": "markdown",
   "metadata": {},
   "source": [
    "# CHEN 2450 - Coding Activity 4\n",
    "# Jacobi Iterative Solver\n",
    "## Prof. Tony Saad"
   ]
  },
  {
   "cell_type": "markdown",
   "metadata": {},
   "source": [
    "Use the Jacobi iterative solver to find the solution of the following system of equations:\n",
    "\\begin{equation}\n",
    "\\begin{bmatrix}\n",
    "5 & 1 & 1\\\\ \n",
    "2 & 3 & 0\\\\ \n",
    "3 & 0 & 4\n",
    "\\end{bmatrix}\n",
    "\\begin{pmatrix}\n",
    "x_1\\\\ \n",
    "x_2\\\\ \n",
    "x_3\n",
    "\\end{pmatrix}\n",
    "=\n",
    "\\begin{pmatrix}\n",
    "10\\\\ \n",
    "11\\\\ \n",
    "12\n",
    "\\end{pmatrix}\n",
    "\\end{equation}"
   ]
  },
  {
   "cell_type": "markdown",
   "metadata": {},
   "source": [
    "Below is an implementation of the Jacobi iterative solver"
   ]
  },
  {
   "cell_type": "code",
   "execution_count": 1,
   "metadata": {},
   "outputs": [],
   "source": [
    "import numpy as np\n",
    "from numpy.linalg import norm\n",
    "def jacobi(A,b,xguess,maxIter):\n",
    "    # Make sure A is a numpy array\n",
    "    A = np.array(A)\n",
    "    [nr,nc] = A.shape\n",
    "    iter = 0 # counter\n",
    "    x  = np.zeros(nr) # declare x array\n",
    "    while (iter < maxIter):\n",
    "        # loop over the rows\n",
    "        for i in range(0,nr):\n",
    "            x[i] = xguess[i] + 1.0/A[i][i] * (b[i] - A[i]@xguess)\n",
    "        #make sure x and xguess are NOT the same\n",
    "        xguess = x.copy()\n",
    "        iter +=1\n",
    "    return x"
   ]
  },
  {
   "cell_type": "markdown",
   "metadata": {},
   "source": [
    "Define your coefficient matrix, RHS, initial guess, and max iterations"
   ]
  },
  {
   "cell_type": "code",
   "execution_count": 2,
   "metadata": {},
   "outputs": [],
   "source": [
    "A = [[5,1,1],\n",
    "     [2,3,0],\n",
    "     [3,0,4]]\n",
    "b = [10,11,12]\n",
    "x0 = [1,1,1]\n",
    "maxIter = 10"
   ]
  },
  {
   "cell_type": "markdown",
   "metadata": {},
   "source": [
    "Now call the Jacobi solver to solve this system of equations"
   ]
  },
  {
   "cell_type": "code",
   "execution_count": 7,
   "metadata": {},
   "outputs": [
    {
     "data": {
      "text/plain": [
       "array([0.93035995, 3.04363407, 2.29908833])"
      ]
     },
     "execution_count": 7,
     "metadata": {},
     "output_type": "execute_result"
    }
   ],
   "source": [
    "jacobi(A,x0,b,maxIter)"
   ]
  },
  {
   "cell_type": "markdown",
   "metadata": {},
   "source": [
    "To gain more insight into what the solver is doing, modify the Jacobi routine to print out iteration number and the value of each iterate $x_i^k$"
   ]
  },
  {
   "cell_type": "code",
   "execution_count": 8,
   "metadata": {},
   "outputs": [],
   "source": [
    "def jacobi2(A,b,xguess,maxIter):\n",
    "    # Make sure A is a numpy array\n",
    "    A = np.array(A)\n",
    "    [nr,nc] = A.shape\n",
    "    iter = 0 # counter\n",
    "    x  = np.zeros(nr) # declare x array\n",
    "    ????\n",
    "    while (iter < maxIter):\n",
    "        ?????\n",
    "        # loop over the rows\n",
    "        for i in range(0,nr):\n",
    "            x[i] = xguess[i] + 1.0/A[i][i] * (b[i] - A[i]@xguess)\n",
    "        #make sure x and xguess are NOT the same\n",
    "        xguess = x.copy()\n",
    "        iter +=1\n",
    "    return x"
   ]
  },
  {
   "cell_type": "markdown",
   "metadata": {},
   "source": [
    "Now experiment with different maximum iterations - what do you observe?"
   ]
  },
  {
   "cell_type": "markdown",
   "metadata": {},
   "source": [
    "Clearly, we need a way to tell the solver to stop. A tolerance is useful in this case. Add an error measure to the Jacobi routine so that the solver stops at a certain tolerance."
   ]
  },
  {
   "cell_type": "code",
   "execution_count": 9,
   "metadata": {},
   "outputs": [],
   "source": [
    "def jacobi3(A,b,xguess,???):\n",
    "    # Make sure A is a numpy array\n",
    "    A = np.array(A)\n",
    "    [nr,nc] = A.shape\n",
    "    ??????\n",
    "    iter = 0 # counter\n",
    "    x  = np.zeros(nr) # declare x array\n",
    "    \n",
    "    while (error > tol):\n",
    "        \n",
    "        # loop over the rows\n",
    "        for i in range(0,nr):\n",
    "            x[i] = xguess[i] + 1.0/A[i][i] * (b[i] - A[i]@xguess)\n",
    "\n",
    "        ????\n",
    "        #make sure x and xguess are NOT the same\n",
    "        xguess = x.copy()\n",
    "        \n",
    "        iter +=1\n",
    "    return x"
   ]
  }
 ],
 "metadata": {
  "kernelspec": {
   "display_name": "Python 3",
   "language": "python",
   "name": "python3"
  },
  "language_info": {
   "codemirror_mode": {
    "name": "ipython",
    "version": 3
   },
   "file_extension": ".py",
   "mimetype": "text/x-python",
   "name": "python",
   "nbconvert_exporter": "python",
   "pygments_lexer": "ipython3",
   "version": "3.8.5"
  }
 },
 "nbformat": 4,
 "nbformat_minor": 4
}
