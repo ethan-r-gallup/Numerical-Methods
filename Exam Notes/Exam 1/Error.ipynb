{
 "cells": [
  {
   "cell_type": "markdown",
   "metadata": {},
   "source": [
    "# Error"
   ]
  },
  {
   "cell_type": "markdown",
   "metadata": {},
   "source": [
    "### Types of error\n",
    "\n",
    "True Error: $E_t = True\\ Val - Approx\\ Val$\n",
    "\n",
    "Approximate Error: $E_t = current\\ approx - previous\\ approx$\n",
    "\n",
    "Relative Error: $\\epsilon = \\frac{E}{Best\\ Value}$\n",
    "\n",
    "Absolute Error: $|E|$"
   ]
  },
  {
   "cell_type": "markdown",
   "metadata": {},
   "source": [
    "### Sources of Error\n",
    "\n",
    "• Modeling errors: Assume for example an incorrect drag model \n",
    "\n",
    "• Programming errors \n",
    "\n",
    "• Numerical errors: Our Main Concern here \n",
    "\n",
    " - Round off errors - due to limited representation of a number on a computer \n",
    "\n",
    " - Truncation errors - due to truncating a full mathematical formula (Taylor series is a great example) \n",
    "\n",
    " - Iteration error - due to the difference between the solution and the current iteration/approximation (will be discussed  with linear systems)"
   ]
  }
 ],
 "metadata": {
  "hide_input": false,
  "kernelspec": {
   "display_name": "Python 3",
   "language": "python",
   "name": "python3"
  },
  "language_info": {
   "codemirror_mode": {
    "name": "ipython",
    "version": 3
   },
   "file_extension": ".py",
   "mimetype": "text/x-python",
   "name": "python",
   "nbconvert_exporter": "python",
   "pygments_lexer": "ipython3",
   "version": "3.8.5"
  }
 },
 "nbformat": 4,
 "nbformat_minor": 4
}
