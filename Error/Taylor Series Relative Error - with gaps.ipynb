{
 "cells": [
  {
   "cell_type": "markdown",
   "metadata": {},
   "source": [
    "# CHEN 2450 - Coding Activity on Relative Approximate Error\n",
    "## Prof. Tony Saad"
   ]
  },
  {
   "cell_type": "markdown",
   "metadata": {},
   "source": [
    "Write a Python code that uses the Taylor series to evaluate the exponential function down to an error (also called tolerance) of 1%. Recall that:\n",
    "Recall that\n",
    "\\begin{equation}\n",
    "e^{x} = \\sum^{\\infty}_{n=0} \\frac{1}{n!} x^{n} = 1 + x + \\frac{1}{2!} x^{2} + \\frac{1}{3!} x^{3} + \\cdots\\text{ for all } x \\!\n",
    "\\end{equation}\n",
    "Hint: Keep adding terms in the Taylor series until the desired tolerance is achieved"
   ]
  },
  {
   "cell_type": "code",
   "execution_count": 48,
   "metadata": {},
   "outputs": [],
   "source": [
    "import math\n",
    "import numpy as np"
   ]
  },
  {
   "cell_type": "markdown",
   "metadata": {},
   "source": [
    "## Brute Force Approach"
   ]
  },
  {
   "cell_type": "markdown",
   "metadata": {},
   "source": [
    "In the brute force approach, you can add terms manually - that is the equivalent of using Python as a calculator, which is a terrible idea!"
   ]
  },
  {
   "cell_type": "code",
   "execution_count": 2,
   "metadata": {},
   "outputs": [
    {
     "name": "stdout",
     "output_type": "stream",
     "text": [
      "66.66666666666666\n",
      "40.0\n",
      "21.052631578947363\n",
      "9.523809523809527\n"
     ]
    }
   ],
   "source": [
    "x = 2.0\n",
    "exactVal = math.exp(x)\n",
    "\n",
    "term1 = 1\n",
    "result1 = term1\n",
    "\n",
    "term2 = x\n",
    "result2 = result1 + term2\n",
    "e = abs(result2 - result1)/result2*100\n",
    "print(e)\n",
    "\n",
    "term3 = 0.5*x**2\n",
    "result3 = result2 + term3\n",
    "e = abs(result3 - result2)/result3*100\n",
    "print(e)\n",
    "\n",
    "term4 = 1.0/6.0*x**3\n",
    "result4 = result3 + term4\n",
    "e = abs(result4 - result3)/result4*100\n",
    "print(e)\n",
    "\n",
    "term5 = 1.0/math.factorial(4)*x**4\n",
    "result5 = result4 + term5\n",
    "e = abs(result5 - result4)/result5*100\n",
    "print(e)"
   ]
  },
  {
   "cell_type": "markdown",
   "metadata": {},
   "source": [
    "# Using a `for` loop"
   ]
  },
  {
   "cell_type": "markdown",
   "metadata": {},
   "source": [
    "But that's really silly. Let's do a for loop! In a for loop, you can do a repetitive calculation for a specified number of times. We typically use the python `range` function to create a counter that automatically increments. The `range` function takes two arguments, a `start` and a `stop` argument and goes from `start` to `stop -1`.Try the following:"
   ]
  },
  {
   "cell_type": "code",
   "execution_count": 22,
   "metadata": {},
   "outputs": [
    {
     "name": "stdout",
     "output_type": "stream",
     "text": [
      "0\n",
      "1\n",
      "2\n",
      "3\n",
      "4\n",
      "5\n",
      "6\n",
      "7\n",
      "8\n",
      "9\n"
     ]
    }
   ],
   "source": [
    "for i in range(0,10):\n",
    "    print(i)\n",
    "    "
   ]
  },
  {
   "cell_type": "markdown",
   "metadata": {},
   "source": [
    "now try this:"
   ]
  },
  {
   "cell_type": "code",
   "execution_count": 46,
   "metadata": {},
   "outputs": [
    {
     "name": "stdout",
     "output_type": "stream",
     "text": [
      "0\n",
      "1\n",
      "2\n",
      "3\n",
      "4\n",
      "5\n",
      "6\n",
      "7\n",
      "8\n",
      "9\n"
     ]
    }
   ],
   "source": [
    "ls = [n for n in range(10)]\n",
    "for i in range(len(ls)):\n",
    "    print(ls[i])"
   ]
  },
  {
   "cell_type": "markdown",
   "metadata": {},
   "source": [
    "if you omit the `start` argument, then the range function will start counting from 0 to `stop - 1`"
   ]
  },
  {
   "cell_type": "markdown",
   "metadata": {},
   "source": [
    "Now let us create a for loop that calculates the taylor series for the exponential function. We will need a few things:\n",
    "1. Define the `x` value at for which we want to calculate the exponential\n",
    "2. Define a variable to store the result of the calculation - let's call that `result`\n",
    "3. Define the number of terms we want in the Taylor series calculation. Call this `nterms`\n",
    "4. Need the factorial function. We can simply use `math.factorial(x)`\n",
    "\n",
    "In what follows, fill in the gaps"
   ]
  },
  {
   "cell_type": "code",
   "execution_count": 34,
   "metadata": {},
   "outputs": [
    {
     "name": "stdout",
     "output_type": "stream",
     "text": [
      "A = 1.00 + 3.00 + 5.00 + 6.33 + 7.00 + 7.27 + 7.36 + 7.38 + 7.39 + 7.39 + ... + (x^n)/n! = 7.3887\n",
      "e^x = 7.3891\n"
     ]
    }
   ],
   "source": [
    "x = 2.0 # define the x value at which we want to evaluate the exponential\n",
    "result = 0 # define a variable to store the result. What should we initialize this to???\n",
    "nterms = 10 # define the total number of terms you want in the Taylor series\n",
    "print('A = ', end='')\n",
    "for n in range(nterms):\n",
    "    result += (x**n)/math.factorial(n)\n",
    "    print(f'{result:.2f}', end=' + ')\n",
    "print(f'... + (x^n)/n! = {result:.4f}') # print the result\n",
    "\n",
    "# out of curiosity, let's look at the exact value\n",
    "exactVal = math.exp(x)\n",
    "print(f'e^x = {exactVal:.4f}') "
   ]
  },
  {
   "cell_type": "markdown",
   "metadata": {},
   "source": [
    "Let us now calculate the relative approximate error for each term in the for loop. We will need to make a copy of the \"previous approximation\" - let's call that `oldResult`. Fill in the gaps in what follows:"
   ]
  },
  {
   "cell_type": "code",
   "execution_count": 40,
   "metadata": {},
   "outputs": [
    {
     "name": "stdout",
     "output_type": "stream",
     "text": [
      "error for term 0 : 100.000%\n",
      "error for term 1 : 66.667%\n",
      "error for term 2 : 40.000%\n",
      "error for term 3 : 21.053%\n",
      "error for term 4 : 9.524%\n",
      "error for term 5 : 3.670%\n",
      "error for term 6 : 1.208%\n",
      "error for term 7 : 0.344%\n",
      "error for term 8 : 0.086%\n",
      "error for term 9 : 0.019%\n"
     ]
    }
   ],
   "source": [
    "x = 2.0\n",
    "result = 0.0\n",
    "nterms = 10\n",
    "for n in range(nterms):\n",
    "    oldResult = result\n",
    "    result = result + 1.0/math.factorial(n)*x**n\n",
    "    e = abs(result - oldResult)/result*100\n",
    "    print(f'error for term {n} : {e:.3f}%')"
   ]
  },
  {
   "cell_type": "markdown",
   "metadata": {},
   "source": [
    "Now we need to tell the for loop to stop after a certain tolerance has been achieved. We need an if statement to track when the error reaches a desired tolerance. We also need to make sure that our for loop will keep going for a sufficient number of terms - so you need to increase your `nterms` otherwise you might not hit your desired tolerance."
   ]
  },
  {
   "cell_type": "code",
   "execution_count": 51,
   "metadata": {},
   "outputs": [
    {
     "name": "stdout",
     "output_type": "stream",
     "text": [
      "7.3809523809523805\n",
      "it took 7 terms to get to this tolerance.\n",
      "actual error is: 0.34408602150537515 %\n"
     ]
    }
   ],
   "source": [
    "x = 2.0\n",
    "result = 0.0\n",
    "tol = 0.5 # define desired tolerance in percent\n",
    "nterms = 100\n",
    "for n in range(nterms):\n",
    "    oldResult = result\n",
    "    result = oldResult + 1.0/math.factorial(n)*x**n\n",
    "    e = abs(result - oldResult)/result*100\n",
    "    if e <= tol:\n",
    "        break\n",
    "print(result)\n",
    "print('it took', n, 'terms to get to this tolerance.')\n",
    "print('actual error is:', e, '%')"
   ]
  },
  {
   "cell_type": "markdown",
   "metadata": {},
   "source": [
    "Another way would be to use a while loop to avoid an if statement"
   ]
  },
  {
   "cell_type": "code",
   "execution_count": 44,
   "metadata": {},
   "outputs": [
    {
     "name": "stdout",
     "output_type": "stream",
     "text": [
      "100.0\n",
      "66.66666666666666\n",
      "40.0\n",
      "21.052631578947363\n",
      "9.523809523809527\n",
      "5 9.523809523809527\n"
     ]
    }
   ],
   "source": [
    "import numpy as np\n",
    "import math\n",
    "error = 10000\n",
    "result = 0.0\n",
    "n = 0\n",
    "x = 2\n",
    "tol = 10\n",
    "while error > tol:\n",
    "    oldResult = result\n",
    "    result += 1.0/math.factorial(n) * x** n\n",
    "    n += 1\n",
    "    error = abs(oldResult - result)/result*100\n",
    "    print(error)\n",
    "print(n, error)"
   ]
  }
 ],
 "metadata": {
  "anaconda-cloud": {},
  "kernelspec": {
   "display_name": "Python 3",
   "language": "python",
   "name": "python3"
  },
  "language_info": {
   "codemirror_mode": {
    "name": "ipython",
    "version": 3
   },
   "file_extension": ".py",
   "mimetype": "text/x-python",
   "name": "python",
   "nbconvert_exporter": "python",
   "pygments_lexer": "ipython3",
   "version": "3.8.5"
  }
 },
 "nbformat": 4,
 "nbformat_minor": 2
}
