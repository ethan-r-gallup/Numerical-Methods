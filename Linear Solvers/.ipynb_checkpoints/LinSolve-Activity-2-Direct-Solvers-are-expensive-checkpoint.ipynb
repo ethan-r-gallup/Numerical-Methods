{
 "cells": [
  {
   "cell_type": "markdown",
   "metadata": {},
   "source": [
    "# CHEN 2450 - Coding Activity\n",
    "## Direct Solvers can be expensive\n",
    "## Prof. Tony Saad"
   ]
  },
  {
   "cell_type": "code",
   "execution_count": 1,
   "metadata": {},
   "outputs": [],
   "source": [
    "import numpy as np\n",
    "from numpy import diag\n",
    "from numpy.linalg import solve\n",
    "import time\n",
    "import matplotlib.pyplot as plt\n",
    "%matplotlib inline\n",
    "%config InlineBackend.figure_format = 'svg'\n",
    "from tqdm imp"
   ]
  },
  {
   "cell_type": "markdown",
   "metadata": {},
   "source": [
    "The following solves the stead state heat transfer equation in one-dimension subject to a heating source somewhere along the material\n",
    "\\begin{equation}\n",
    "\\frac{\\mathrm{d}^2T}{\\mathrm{d}x^2} = -\\frac{1}{k}S(x)\n",
    "\\end{equation}"
   ]
  },
  {
   "cell_type": "code",
   "execution_count": 11,
   "metadata": {},
   "outputs": [],
   "source": [
    "# USER: input number of equations\n",
    "n = 20000\n",
    "\n",
    "#==============================\n",
    "# DO NOT MODIFY BELOW THIS LINE\n",
    "#==============================\n",
    "def source(x):\n",
    "    σ = 0.1\n",
    "    x0 = 2.0/3.0\n",
    "    return 0.1*np.exp(-(x-x0)**2/σ/σ)\n",
    "\n",
    "TL = 300\n",
    "TR = 350\n",
    "k = 1e-5\n",
    "\n",
    "L = 1.0\n",
    "dx = L /(n-1)\n",
    "x = np.linspace(0,L,n)\n",
    "\n",
    "\n",
    "d = -2.0*np.ones(n)\n",
    "d[0] = 1.0\n",
    "d[-1] = 1.0\n",
    "\n",
    "l = np.ones(n-1)\n",
    "l[-1] = 0.0\n",
    "\n",
    "u = np.ones(n-1)\n",
    "u[0] = 0.0\n",
    "\n",
    "A = diag(l,-1) + diag(d,0) + diag(u,1)\n",
    "\n",
    "# build the RHS\n",
    "b = - dx*dx*source(x)/k\n",
    "b[0] = TL\n",
    "b[-1] = TR"
   ]
  },
  {
   "cell_type": "code",
   "execution_count": null,
   "metadata": {},
   "outputs": [],
   "source": [
    "# solve using build in solver.\n",
    "tic = time.time()\n",
    "T = solve(A,b)\n",
    "toc = time.time()\n",
    "print('It took', toc - tic, 's to solve the system with', n, 'equations')"
   ]
  },
  {
   "cell_type": "code",
   "execution_count": null,
   "metadata": {},
   "outputs": [],
   "source": [
    "# plot the temperature\n",
    "T = np.reshape(T,[1,n])\n",
    "plt.imshow(T,cmap='inferno',aspect='auto')\n",
    "plt.colorbar()"
   ]
  },
  {
   "cell_type": "code",
   "execution_count": null,
   "metadata": {},
   "outputs": [],
   "source": []
  }
 ],
 "metadata": {
  "kernelspec": {
   "display_name": "Python 3",
   "language": "python",
   "name": "python3"
  },
  "language_info": {
   "codemirror_mode": {
    "name": "ipython",
    "version": 3
   },
   "file_extension": ".py",
   "mimetype": "text/x-python",
   "name": "python",
   "nbconvert_exporter": "python",
   "pygments_lexer": "ipython3",
   "version": "3.8.5"
  }
 },
 "nbformat": 4,
 "nbformat_minor": 4
}
