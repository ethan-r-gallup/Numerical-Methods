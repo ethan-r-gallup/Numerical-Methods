{
 "cells": [
  {
   "cell_type": "markdown",
   "metadata": {},
   "source": [
    "# CHEN 2450 - Coding Activity on TDMA\n",
    "## Prof. Tony Saad"
   ]
  },
  {
   "cell_type": "markdown",
   "metadata": {},
   "source": [
    "Use the thomas algorithm supplied below to solve the system of equations:\n",
    "\\begin{equation}\n",
    "\\begin{bmatrix}\n",
    "2 &-3  & 0 & 0\\\\ \n",
    "1 & 2 & -1 & 0\\\\ \n",
    "0 & 4 & -1 & 1\\\\ \n",
    "0 & 0 &  2& -1\n",
    "\\end{bmatrix}\n",
    "\\begin{pmatrix}\n",
    "x_1\\\\ \n",
    "x_2\\\\ \n",
    "x_3\\\\ \n",
    "x_4\n",
    "\\end{pmatrix}\n",
    "=\n",
    "\\begin{pmatrix}\n",
    "-4\\\\ \n",
    "2\\\\ \n",
    "9\\\\ \n",
    "2\n",
    "\\end{pmatrix}\n",
    "\\end{equation}"
   ]
  },
  {
   "cell_type": "code",
   "execution_count": 1,
   "metadata": {},
   "outputs": [],
   "source": [
    "import numpy as np\n",
    "\n",
    "# l = lower diagonal vector\n",
    "# d = main diagonal vector\n",
    "# u = upper diagonal vector\n",
    "# b = right-hand-side vector\n",
    "def thomas(l,d,u,b):\n",
    "    n = len(d)\n",
    "    x = np.zeros(n) # define solution vector\n",
    "    for i in range(1,n):\n",
    "        d[i] = d[i] - u[i-1]*l[i-1]/d[i-1]\n",
    "        b[i] = b[i] - b[i-1]*l[i-1]/d[i-1]\n",
    "\n",
    "    x[n-1] = b[n-1]/d[n-1]\n",
    "    for i in range(n-2,-1,-1):\n",
    "        x[i] = (b[i]-u[i]*x[i+1])/d[i]\n",
    "    return x"
   ]
  },
  {
   "cell_type": "code",
   "execution_count": null,
   "metadata": {},
   "outputs": [],
   "source": [
    "mat "
   ]
  }
 ],
 "metadata": {
  "kernelspec": {
   "display_name": "Python 3",
   "language": "python",
   "name": "python3"
  },
  "language_info": {
   "codemirror_mode": {
    "name": "ipython",
    "version": 3
   },
   "file_extension": ".py",
   "mimetype": "text/x-python",
   "name": "python",
   "nbconvert_exporter": "python",
   "pygments_lexer": "ipython3",
   "version": "3.8.5"
  }
 },
 "nbformat": 4,
 "nbformat_minor": 4
}
