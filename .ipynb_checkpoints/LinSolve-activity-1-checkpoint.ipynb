{
 "cells": [
  {
   "cell_type": "markdown",
   "metadata": {},
   "source": [
    "# CHEN 2450 - Coding Activity on TDMA\n",
    "## Prof. Tony Saad"
   ]
  },
  {
   "cell_type": "markdown",
   "metadata": {},
   "source": [
    "Use built in python functions, solve and inverse to solve the system of equations derived from the separations example in class:\n",
    "\\begin{equation}\n",
    "\\begin{bmatrix}\n",
    "1 & 1 & 1\\\\ \n",
    "0.04 & 0.54 & 0.26\\\\ \n",
    "0.93 & 0.24 & 0.0\n",
    "\\end{bmatrix}\n",
    "\\begin{pmatrix}\n",
    "x_1\\\\ \n",
    "x_2\\\\ \n",
    "x_3\n",
    "\\end{pmatrix}\n",
    "=\n",
    "\\begin{pmatrix}\n",
    "10\\\\ \n",
    "2\\\\ \n",
    "6\n",
    "\\end{pmatrix}\n",
    "\\end{equation}"
   ]
  },
  {
   "cell_type": "code",
   "execution_count": 2,
   "metadata": {},
   "outputs": [],
   "source": [
    "from numpy.linalg import solve, inv"
   ]
  },
  {
   "cell_type": "markdown",
   "metadata": {},
   "source": [
    "Use the solve function"
   ]
  },
  {
   "cell_type": "code",
   "execution_count": 3,
   "metadata": {},
   "outputs": [
    {
     "name": "stdout",
     "output_type": "stream",
     "text": [
      "[5.82375479 2.43295019 1.74329502]\n"
     ]
    }
   ],
   "source": [
    "A = [[1, 1, 1], [.04, .54, .26], [.93, .24, .0]]\n",
    "b = [10, 2, 6]\n",
    "sol = solve(A, b)\n",
    "print(sol)"
   ]
  },
  {
   "cell_type": "markdown",
   "metadata": {},
   "source": [
    "Use the inverse"
   ]
  },
  {
   "cell_type": "code",
   "execution_count": 10,
   "metadata": {},
   "outputs": [
    {
     "name": "stdout",
     "output_type": "stream",
     "text": [
      "[5.82375479 2.43295019 1.74329502]\n"
     ]
    }
   ],
   "source": [
    "Ainv = inv(A)\n",
    "sol = Ainv @ b\n",
    "print(sol)"
   ]
  }
 ],
 "metadata": {
  "kernelspec": {
   "display_name": "Python 3",
   "language": "python",
   "name": "python3"
  },
  "language_info": {
   "codemirror_mode": {
    "name": "ipython",
    "version": 3
   },
   "file_extension": ".py",
   "mimetype": "text/x-python",
   "name": "python",
   "nbconvert_exporter": "python",
   "pygments_lexer": "ipython3",
   "version": "3.8.5"
  }
 },
 "nbformat": 4,
 "nbformat_minor": 4
}
